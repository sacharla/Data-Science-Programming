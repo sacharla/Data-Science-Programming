{
 "cells": [
  {
   "cell_type": "code",
   "execution_count": 21,
   "id": "55eb1049-6070-470d-86fa-2e08e31308f7",
   "metadata": {},
   "outputs": [],
   "source": [
    "import pandas as pd\n",
    "import numpy as np\n",
    "from sklearn.model_selection import train_test_split\n",
    "from sklearn.preprocessing import MinMaxScaler"
   ]
  },
  {
   "cell_type": "code",
   "execution_count": 8,
   "id": "57d363b8-c317-4f06-b871-29e9dfdfc32d",
   "metadata": {},
   "outputs": [
    {
     "data": {
      "text/html": [
       "<div>\n",
       "<style scoped>\n",
       "    .dataframe tbody tr th:only-of-type {\n",
       "        vertical-align: middle;\n",
       "    }\n",
       "\n",
       "    .dataframe tbody tr th {\n",
       "        vertical-align: top;\n",
       "    }\n",
       "\n",
       "    .dataframe thead th {\n",
       "        text-align: right;\n",
       "    }\n",
       "</style>\n",
       "<table border=\"1\" class=\"dataframe\">\n",
       "  <thead>\n",
       "    <tr style=\"text-align: right;\">\n",
       "      <th></th>\n",
       "      <th>Year</th>\n",
       "      <th>Jan</th>\n",
       "      <th>Feb</th>\n",
       "      <th>Mar</th>\n",
       "      <th>Apr</th>\n",
       "      <th>May</th>\n",
       "      <th>Jun</th>\n",
       "      <th>Jul</th>\n",
       "      <th>Aug</th>\n",
       "      <th>Sep</th>\n",
       "      <th>Oct</th>\n",
       "      <th>Nov</th>\n",
       "      <th>Dec</th>\n",
       "    </tr>\n",
       "  </thead>\n",
       "  <tbody>\n",
       "    <tr>\n",
       "      <th>0</th>\n",
       "      <td>1914</td>\n",
       "      <td>2.0</td>\n",
       "      <td>1.0</td>\n",
       "      <td>1.0</td>\n",
       "      <td>0.0</td>\n",
       "      <td>2.1</td>\n",
       "      <td>1.0</td>\n",
       "      <td>1.0</td>\n",
       "      <td>3.0</td>\n",
       "      <td>2.0</td>\n",
       "      <td>1.0</td>\n",
       "      <td>1.0</td>\n",
       "      <td>1.0</td>\n",
       "    </tr>\n",
       "    <tr>\n",
       "      <th>1</th>\n",
       "      <td>1915</td>\n",
       "      <td>1.0</td>\n",
       "      <td>1.0</td>\n",
       "      <td>0.0</td>\n",
       "      <td>2.0</td>\n",
       "      <td>2.0</td>\n",
       "      <td>2.0</td>\n",
       "      <td>1.0</td>\n",
       "      <td>-1.0</td>\n",
       "      <td>-1.0</td>\n",
       "      <td>1.0</td>\n",
       "      <td>1.0</td>\n",
       "      <td>2.0</td>\n",
       "    </tr>\n",
       "    <tr>\n",
       "      <th>2</th>\n",
       "      <td>1916</td>\n",
       "      <td>3.0</td>\n",
       "      <td>4.0</td>\n",
       "      <td>6.1</td>\n",
       "      <td>6.0</td>\n",
       "      <td>5.9</td>\n",
       "      <td>6.9</td>\n",
       "      <td>6.9</td>\n",
       "      <td>7.9</td>\n",
       "      <td>9.9</td>\n",
       "      <td>10.8</td>\n",
       "      <td>11.7</td>\n",
       "      <td>12.6</td>\n",
       "    </tr>\n",
       "    <tr>\n",
       "      <th>3</th>\n",
       "      <td>1917</td>\n",
       "      <td>12.5</td>\n",
       "      <td>15.4</td>\n",
       "      <td>14.3</td>\n",
       "      <td>18.9</td>\n",
       "      <td>19.6</td>\n",
       "      <td>20.4</td>\n",
       "      <td>18.5</td>\n",
       "      <td>19.3</td>\n",
       "      <td>19.8</td>\n",
       "      <td>19.5</td>\n",
       "      <td>17.4</td>\n",
       "      <td>18.1</td>\n",
       "    </tr>\n",
       "    <tr>\n",
       "      <th>4</th>\n",
       "      <td>1918</td>\n",
       "      <td>19.7</td>\n",
       "      <td>17.5</td>\n",
       "      <td>16.7</td>\n",
       "      <td>12.7</td>\n",
       "      <td>13.3</td>\n",
       "      <td>13.1</td>\n",
       "      <td>18.0</td>\n",
       "      <td>18.5</td>\n",
       "      <td>18.0</td>\n",
       "      <td>18.5</td>\n",
       "      <td>20.7</td>\n",
       "      <td>20.4</td>\n",
       "    </tr>\n",
       "  </tbody>\n",
       "</table>\n",
       "</div>"
      ],
      "text/plain": [
       "   Year   Jan   Feb   Mar   Apr   May   Jun   Jul   Aug   Sep   Oct   Nov  \\\n",
       "0  1914   2.0   1.0   1.0   0.0   2.1   1.0   1.0   3.0   2.0   1.0   1.0   \n",
       "1  1915   1.0   1.0   0.0   2.0   2.0   2.0   1.0  -1.0  -1.0   1.0   1.0   \n",
       "2  1916   3.0   4.0   6.1   6.0   5.9   6.9   6.9   7.9   9.9  10.8  11.7   \n",
       "3  1917  12.5  15.4  14.3  18.9  19.6  20.4  18.5  19.3  19.8  19.5  17.4   \n",
       "4  1918  19.7  17.5  16.7  12.7  13.3  13.1  18.0  18.5  18.0  18.5  20.7   \n",
       "\n",
       "    Dec  \n",
       "0   1.0  \n",
       "1   2.0  \n",
       "2  12.6  \n",
       "3  18.1  \n",
       "4  20.4  "
      ]
     },
     "execution_count": 8,
     "metadata": {},
     "output_type": "execute_result"
    }
   ],
   "source": [
    "df = pd.read_csv('C:/Users/Srinidhi/Documents/USF/Data_Science_Programming/final_week/inflation2.csv')\n",
    "df.head(5)"
   ]
  },
  {
   "cell_type": "code",
   "execution_count": 11,
   "id": "76e546c9-1b9c-419f-8dc8-bf114072b259",
   "metadata": {},
   "outputs": [
    {
     "data": {
      "text/plain": [
       "array([[ 1.914e+03,  2.000e+00,  1.000e+00,  1.000e+00,  0.000e+00,\n",
       "         2.100e+00,  1.000e+00,  1.000e+00,  3.000e+00,  2.000e+00,\n",
       "         1.000e+00,  1.000e+00,  1.000e+00],\n",
       "       [ 1.915e+03,  1.000e+00,  1.000e+00,  0.000e+00,  2.000e+00,\n",
       "         2.000e+00,  2.000e+00,  1.000e+00, -1.000e+00, -1.000e+00,\n",
       "         1.000e+00,  1.000e+00,  2.000e+00],\n",
       "       [ 1.916e+03,  3.000e+00,  4.000e+00,  6.100e+00,  6.000e+00,\n",
       "         5.900e+00,  6.900e+00,  6.900e+00,  7.900e+00,  9.900e+00,\n",
       "         1.080e+01,  1.170e+01,  1.260e+01]])"
      ]
     },
     "execution_count": 11,
     "metadata": {},
     "output_type": "execute_result"
    }
   ],
   "source": [
    "data = df.to_numpy()\n",
    "data[:3]"
   ]
  },
  {
   "cell_type": "code",
   "execution_count": 15,
   "id": "79315332-aa7b-43be-adb0-1dca955f9cb1",
   "metadata": {},
   "outputs": [
    {
     "data": {
      "text/plain": [
       "(1417,)"
      ]
     },
     "execution_count": 15,
     "metadata": {},
     "output_type": "execute_result"
    }
   ],
   "source": [
    "data = data.flatten()\n",
    "data.shape"
   ]
  },
  {
   "cell_type": "code",
   "execution_count": 16,
   "id": "4ea387af-ed03-4a1d-b185-5519a5f48fff",
   "metadata": {},
   "outputs": [
    {
     "name": "stdout",
     "output_type": "stream",
     "text": [
      "[([1, 2, 3, 4, 5, 6, 7, 8, 9, 10], 11)]\n"
     ]
    }
   ],
   "source": [
    "# Define the list of inflation figures\n",
    "inflation_figures = [1, 2, 3, 4, 5, 6, 7, 8, 9, 10, 11]\n",
    "\n",
    "# Define an empty list to store the observations\n",
    "observations = []\n",
    "\n",
    "# Create sliding window of size 10 and append to observations list\n",
    "for i in range(len(inflation_figures) - 10):\n",
    "    observation = inflation_figures[i:i+10]\n",
    "    y = inflation_figures[i+10]\n",
    "    observations.append((observation, y))\n",
    "\n",
    "# Print the observations\n",
    "print(observations)\n"
   ]
  },
  {
   "cell_type": "code",
   "execution_count": 17,
   "id": "0fc21879-e849-48d6-b391-c2d3eb2e7395",
   "metadata": {},
   "outputs": [
    {
     "name": "stdout",
     "output_type": "stream",
     "text": [
      "X: [array([0, 1, 2, 3, 4, 5, 6, 7, 8, 9]), array([ 1,  2,  3,  4,  5,  6,  7,  8,  9, 10])]\n"
     ]
    }
   ],
   "source": [
    "# Extract the first 10 inflation numbers from each observation and append to X array\n",
    "for i in range(len(observations) - timesteps + 1):\n",
    "    observation = observations[i:i+timesteps]\n",
    "    X.append(observation)\n",
    "\n",
    "# Print X values\n",
    "print('X:', X)"
   ]
  },
  {
   "cell_type": "code",
   "execution_count": 19,
   "id": "7cf89431-3417-45eb-b6f2-b9943f263f27",
   "metadata": {},
   "outputs": [
    {
     "ename": "AttributeError",
     "evalue": "'int' object has no attribute 'shape'",
     "output_type": "error",
     "traceback": [
      "\u001b[1;31m---------------------------------------------------------------------------\u001b[0m",
      "\u001b[1;31mAttributeError\u001b[0m                            Traceback (most recent call last)",
      "Input \u001b[1;32mIn [19]\u001b[0m, in \u001b[0;36m<cell line: 1>\u001b[1;34m()\u001b[0m\n\u001b[1;32m----> 1\u001b[0m \u001b[43my\u001b[49m\u001b[38;5;241;43m.\u001b[39;49m\u001b[43mshape\u001b[49m\n",
      "\u001b[1;31mAttributeError\u001b[0m: 'int' object has no attribute 'shape'"
     ]
    }
   ],
   "source": [
    "y.shape"
   ]
  },
  {
   "cell_type": "code",
   "execution_count": null,
   "id": "ceb47b01-96fd-423e-942f-c4e7d167ee6f",
   "metadata": {},
   "outputs": [],
   "source": [
    "\n",
    "\n",
    "\n",
    "\n",
    "\n"
   ]
  }
 ],
 "metadata": {
  "kernelspec": {
   "display_name": "Python 3 (ipykernel)",
   "language": "python",
   "name": "python3"
  },
  "language_info": {
   "codemirror_mode": {
    "name": "ipython",
    "version": 3
   },
   "file_extension": ".py",
   "mimetype": "text/x-python",
   "name": "python",
   "nbconvert_exporter": "python",
   "pygments_lexer": "ipython3",
   "version": "3.9.12"
  }
 },
 "nbformat": 4,
 "nbformat_minor": 5
}
