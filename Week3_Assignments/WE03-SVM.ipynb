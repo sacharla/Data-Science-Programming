{
 "cells": [
  {
   "cell_type": "code",
   "execution_count": 151,
   "id": "725b4fa3-f036-4b09-8599-12b37d608340",
   "metadata": {},
   "outputs": [],
   "source": [
    "import pandas as pd\n",
    "from sklearn.svm import SVC\n",
    "from matplotlib import pyplot as plt\n",
    "import numpy as np\n",
    "from sklearn.metrics import confusion_matrix\n",
    "from sklearn.metrics import classification_report  \n",
    "from sklearn.model_selection import train_test_split\n",
    "\n",
    "np.random.seed(1)"
   ]
  },
  {
   "cell_type": "code",
   "execution_count": 152,
   "id": "63235e99-2e80-40dd-b79f-83d2bd02007f",
   "metadata": {},
   "outputs": [
    {
     "data": {
      "text/html": [
       "<div>\n",
       "<style scoped>\n",
       "    .dataframe tbody tr th:only-of-type {\n",
       "        vertical-align: middle;\n",
       "    }\n",
       "\n",
       "    .dataframe tbody tr th {\n",
       "        vertical-align: top;\n",
       "    }\n",
       "\n",
       "    .dataframe thead th {\n",
       "        text-align: right;\n",
       "    }\n",
       "</style>\n",
       "<table border=\"1\" class=\"dataframe\">\n",
       "  <thead>\n",
       "    <tr style=\"text-align: right;\">\n",
       "      <th></th>\n",
       "      <th>Income</th>\n",
       "      <th>Lot_Size</th>\n",
       "      <th>Ownership</th>\n",
       "    </tr>\n",
       "  </thead>\n",
       "  <tbody>\n",
       "    <tr>\n",
       "      <th>0</th>\n",
       "      <td>60.0</td>\n",
       "      <td>18.4</td>\n",
       "      <td>Owner</td>\n",
       "    </tr>\n",
       "    <tr>\n",
       "      <th>1</th>\n",
       "      <td>85.5</td>\n",
       "      <td>16.8</td>\n",
       "      <td>Owner</td>\n",
       "    </tr>\n",
       "    <tr>\n",
       "      <th>2</th>\n",
       "      <td>64.8</td>\n",
       "      <td>21.6</td>\n",
       "      <td>Owner</td>\n",
       "    </tr>\n",
       "  </tbody>\n",
       "</table>\n",
       "</div>"
      ],
      "text/plain": [
       "   Income  Lot_Size Ownership\n",
       "0    60.0      18.4     Owner\n",
       "1    85.5      16.8     Owner\n",
       "2    64.8      21.6     Owner"
      ]
     },
     "execution_count": 152,
     "metadata": {},
     "output_type": "execute_result"
    }
   ],
   "source": [
    "df = pd.read_csv('C:/Users/Srinidhi/Documents/USF/Data_Science_Programming/Week3_Assignments/RidingMowers.csv')\n",
    "df.head(3)"
   ]
  },
  {
   "cell_type": "code",
   "execution_count": 153,
   "id": "55bf3f63-fccc-47d9-87f7-c03029fac4f8",
   "metadata": {},
   "outputs": [
    {
     "data": {
      "text/plain": [
       "(24, 3)"
      ]
     },
     "execution_count": 153,
     "metadata": {},
     "output_type": "execute_result"
    }
   ],
   "source": [
    "df.shape"
   ]
  },
  {
   "cell_type": "code",
   "execution_count": 180,
   "id": "cf5190df-2f06-4bf3-9e9a-4ac667ef0887",
   "metadata": {},
   "outputs": [],
   "source": [
    "from sklearn import preprocessing\n",
    "\n",
    "#label encoding the target variable\n",
    "labelencoder = preprocessing.LabelEncoder()\n",
    "df['Ownership'] = labelencoder.fit_transform(df['Ownership'])"
   ]
  },
  {
   "cell_type": "code",
   "execution_count": 155,
   "id": "f789aa03-1c29-4145-81e8-36e8191d0bc5",
   "metadata": {},
   "outputs": [],
   "source": [
    "X = df.iloc[:, 0:-1]\n",
    "y = df.iloc[:, -1]"
   ]
  },
  {
   "cell_type": "code",
   "execution_count": 156,
   "id": "b6b08ff6-a90c-45d3-99a0-60eb01269d73",
   "metadata": {},
   "outputs": [],
   "source": [
    "#splitting the model\n",
    "X_train, X_test, y_train, y_test = train_test_split(X, y, test_size = 0.30)# Train a SVC model using different kernal\n"
   ]
  },
  {
   "cell_type": "code",
   "execution_count": 158,
   "id": "83b95258-3090-45ba-b53c-b6ea96ceacd5",
   "metadata": {},
   "outputs": [],
   "source": [
    "performance = pd.DataFrame({\"model\": [], \"Accuracy\": [], \"Precision\": [], \"Recall\": [], \"F1\": []})"
   ]
  },
  {
   "cell_type": "markdown",
   "id": "4ccad6c9-46fd-40b1-be0f-6fee17760adb",
   "metadata": {},
   "source": [
    "### Fit a SVM classification model using linear kernal"
   ]
  },
  {
   "cell_type": "code",
   "execution_count": 159,
   "id": "7e7e6b5e-37a2-4202-9add-1e2e68776145",
   "metadata": {},
   "outputs": [],
   "source": [
    "svm_lin_model = SVC(kernel=\"linear\", probability =True)\n",
    "_ = svm_lin_model.fit(X_train, np.ravel(y_train))"
   ]
  },
  {
   "cell_type": "code",
   "execution_count": 160,
   "id": "2f3a7012-ba0a-4559-8fed-5feffc22b240",
   "metadata": {},
   "outputs": [
    {
     "data": {
      "text/html": [
       "<div>\n",
       "<style scoped>\n",
       "    .dataframe tbody tr th:only-of-type {\n",
       "        vertical-align: middle;\n",
       "    }\n",
       "\n",
       "    .dataframe tbody tr th {\n",
       "        vertical-align: top;\n",
       "    }\n",
       "\n",
       "    .dataframe thead th {\n",
       "        text-align: right;\n",
       "    }\n",
       "</style>\n",
       "<table border=\"1\" class=\"dataframe\">\n",
       "  <thead>\n",
       "    <tr style=\"text-align: right;\">\n",
       "      <th></th>\n",
       "      <th>model</th>\n",
       "      <th>Accuracy</th>\n",
       "      <th>Precision</th>\n",
       "      <th>Recall</th>\n",
       "      <th>F1</th>\n",
       "    </tr>\n",
       "  </thead>\n",
       "  <tbody>\n",
       "    <tr>\n",
       "      <th>0</th>\n",
       "      <td>linear svm</td>\n",
       "      <td>1.0</td>\n",
       "      <td>1.0</td>\n",
       "      <td>1.0</td>\n",
       "      <td>1.0</td>\n",
       "    </tr>\n",
       "  </tbody>\n",
       "</table>\n",
       "</div>"
      ],
      "text/plain": [
       "        model  Accuracy  Precision  Recall   F1\n",
       "0  linear svm       1.0        1.0     1.0  1.0"
      ]
     },
     "execution_count": 160,
     "metadata": {},
     "output_type": "execute_result"
    }
   ],
   "source": [
    "model_preds = svm_lin_model.predict(X_test)\n",
    "c_matrix = confusion_matrix(y_test, model_preds)\n",
    "TP = c_matrix[1][1]\n",
    "TN = c_matrix[0][0]\n",
    "FP = c_matrix[0][1]\n",
    "FN = c_matrix[1][0]\n",
    "performance = pd.concat([performance, pd.DataFrame({'model':\"linear svm\", \n",
    "                                                    'Accuracy': [(TP+TN)/(TP+TN+FP+FN)], \n",
    "                                                    'Precision': [TP/(TP+FP)], \n",
    "                                                    'Recall': [TP/(TP+FN)], \n",
    "                                                    'F1': [2*TP/(2*TP+FP+FN)]\n",
    "                                                     }, index=[0])])\n",
    "\n",
    "performance"
   ]
  },
  {
   "cell_type": "markdown",
   "id": "f4d21ec7-407e-4f29-8767-14316a43ccc6",
   "metadata": {},
   "source": [
    "### Fit a SVM classification model using rbf kernal"
   ]
  },
  {
   "cell_type": "code",
   "execution_count": 161,
   "id": "e40a3f18-eb4a-4bc6-9c9c-d8aedc494319",
   "metadata": {},
   "outputs": [],
   "source": [
    "svm_rbf_model = SVC(kernel=\"rbf\", probability =True, C=10, gamma='scale')\n",
    "_ = svm_rbf_model.fit(X_train, np.ravel(y_train))"
   ]
  },
  {
   "cell_type": "code",
   "execution_count": 162,
   "id": "7f84525b-0d49-44fb-947f-92390578e5dc",
   "metadata": {},
   "outputs": [
    {
     "data": {
      "text/html": [
       "<div>\n",
       "<style scoped>\n",
       "    .dataframe tbody tr th:only-of-type {\n",
       "        vertical-align: middle;\n",
       "    }\n",
       "\n",
       "    .dataframe tbody tr th {\n",
       "        vertical-align: top;\n",
       "    }\n",
       "\n",
       "    .dataframe thead th {\n",
       "        text-align: right;\n",
       "    }\n",
       "</style>\n",
       "<table border=\"1\" class=\"dataframe\">\n",
       "  <thead>\n",
       "    <tr style=\"text-align: right;\">\n",
       "      <th></th>\n",
       "      <th>model</th>\n",
       "      <th>Accuracy</th>\n",
       "      <th>Precision</th>\n",
       "      <th>Recall</th>\n",
       "      <th>F1</th>\n",
       "    </tr>\n",
       "  </thead>\n",
       "  <tbody>\n",
       "    <tr>\n",
       "      <th>0</th>\n",
       "      <td>linear svm</td>\n",
       "      <td>1.00</td>\n",
       "      <td>1.000000</td>\n",
       "      <td>1.000000</td>\n",
       "      <td>1.000000</td>\n",
       "    </tr>\n",
       "    <tr>\n",
       "      <th>0</th>\n",
       "      <td>rbf svm</td>\n",
       "      <td>0.75</td>\n",
       "      <td>0.666667</td>\n",
       "      <td>0.666667</td>\n",
       "      <td>0.666667</td>\n",
       "    </tr>\n",
       "  </tbody>\n",
       "</table>\n",
       "</div>"
      ],
      "text/plain": [
       "        model  Accuracy  Precision    Recall        F1\n",
       "0  linear svm      1.00   1.000000  1.000000  1.000000\n",
       "0     rbf svm      0.75   0.666667  0.666667  0.666667"
      ]
     },
     "execution_count": 162,
     "metadata": {},
     "output_type": "execute_result"
    }
   ],
   "source": [
    "model_preds = svm_rbf_model.predict(X_test)\n",
    "c_matrix = confusion_matrix(y_test, model_preds)\n",
    "TP = c_matrix[1][1]\n",
    "TN = c_matrix[0][0]\n",
    "FP = c_matrix[0][1]\n",
    "FN = c_matrix[1][0]\n",
    "performance = pd.concat([performance, pd.DataFrame({'model':\"rbf svm\", \n",
    "                                                    'Accuracy': [(TP+TN)/(TP+TN+FP+FN)], \n",
    "                                                    'Precision': [TP/(TP+FP)], \n",
    "                                                    'Recall': [TP/(TP+FN)], \n",
    "                                                    'F1': [2*TP/(2*TP+FP+FN)]\n",
    "                                                     }, index=[0])])\n",
    "\n",
    "performance"
   ]
  },
  {
   "cell_type": "markdown",
   "id": "8c171581-be5a-4e50-95a1-7fd6f279b86e",
   "metadata": {},
   "source": [
    "### Fit a SVM classification model using Polynomial kernal"
   ]
  },
  {
   "cell_type": "code",
   "execution_count": 163,
   "id": "9b52e451-ba4f-43d0-860e-7701e3628634",
   "metadata": {},
   "outputs": [],
   "source": [
    "svm_poly_model = SVC(kernel=\"poly\", probability =True, degree=3, coef0=1, C=10)\n",
    "_ = svm_poly_model.fit(X_train, np.ravel(y_train))"
   ]
  },
  {
   "cell_type": "code",
   "execution_count": 164,
   "id": "10f4effd-98e7-4779-a187-ba3d6acbf2a3",
   "metadata": {},
   "outputs": [
    {
     "data": {
      "text/html": [
       "<div>\n",
       "<style scoped>\n",
       "    .dataframe tbody tr th:only-of-type {\n",
       "        vertical-align: middle;\n",
       "    }\n",
       "\n",
       "    .dataframe tbody tr th {\n",
       "        vertical-align: top;\n",
       "    }\n",
       "\n",
       "    .dataframe thead th {\n",
       "        text-align: right;\n",
       "    }\n",
       "</style>\n",
       "<table border=\"1\" class=\"dataframe\">\n",
       "  <thead>\n",
       "    <tr style=\"text-align: right;\">\n",
       "      <th></th>\n",
       "      <th>model</th>\n",
       "      <th>Accuracy</th>\n",
       "      <th>Precision</th>\n",
       "      <th>Recall</th>\n",
       "      <th>F1</th>\n",
       "    </tr>\n",
       "  </thead>\n",
       "  <tbody>\n",
       "    <tr>\n",
       "      <th>0</th>\n",
       "      <td>linear svm</td>\n",
       "      <td>1.000</td>\n",
       "      <td>1.000000</td>\n",
       "      <td>1.000000</td>\n",
       "      <td>1.000000</td>\n",
       "    </tr>\n",
       "    <tr>\n",
       "      <th>0</th>\n",
       "      <td>rbf svm</td>\n",
       "      <td>0.750</td>\n",
       "      <td>0.666667</td>\n",
       "      <td>0.666667</td>\n",
       "      <td>0.666667</td>\n",
       "    </tr>\n",
       "    <tr>\n",
       "      <th>0</th>\n",
       "      <td>poly svm</td>\n",
       "      <td>0.875</td>\n",
       "      <td>1.000000</td>\n",
       "      <td>0.666667</td>\n",
       "      <td>0.800000</td>\n",
       "    </tr>\n",
       "  </tbody>\n",
       "</table>\n",
       "</div>"
      ],
      "text/plain": [
       "        model  Accuracy  Precision    Recall        F1\n",
       "0  linear svm     1.000   1.000000  1.000000  1.000000\n",
       "0     rbf svm     0.750   0.666667  0.666667  0.666667\n",
       "0    poly svm     0.875   1.000000  0.666667  0.800000"
      ]
     },
     "execution_count": 164,
     "metadata": {},
     "output_type": "execute_result"
    }
   ],
   "source": [
    "model_preds = svm_poly_model.predict(X_test)\n",
    "c_matrix = confusion_matrix(y_test, model_preds)\n",
    "TP = c_matrix[1][1]\n",
    "TN = c_matrix[0][0]\n",
    "FP = c_matrix[0][1]\n",
    "FN = c_matrix[1][0]\n",
    "performance = pd.concat([performance, pd.DataFrame({'model':\"poly svm\", \n",
    "                                                    'Accuracy': [(TP+TN)/(TP+TN+FP+FN)], \n",
    "                                                    'Precision': [TP/(TP+FP)], \n",
    "                                                    'Recall': [TP/(TP+FN)], \n",
    "                                                    'F1': [2*TP/(2*TP+FP+FN)]\n",
    "                                                     }, index=[0])])\n",
    "\n",
    "performance"
   ]
  },
  {
   "cell_type": "markdown",
   "id": "3fbea2ed-f798-4654-a950-7343ef3a4790",
   "metadata": {},
   "source": [
    "### Model performance based on Accuracy"
   ]
  },
  {
   "cell_type": "code",
   "execution_count": 165,
   "id": "506bdd8b-892f-42e8-ae27-7b99d6b54de4",
   "metadata": {},
   "outputs": [
    {
     "data": {
      "text/html": [
       "<div>\n",
       "<style scoped>\n",
       "    .dataframe tbody tr th:only-of-type {\n",
       "        vertical-align: middle;\n",
       "    }\n",
       "\n",
       "    .dataframe tbody tr th {\n",
       "        vertical-align: top;\n",
       "    }\n",
       "\n",
       "    .dataframe thead th {\n",
       "        text-align: right;\n",
       "    }\n",
       "</style>\n",
       "<table border=\"1\" class=\"dataframe\">\n",
       "  <thead>\n",
       "    <tr style=\"text-align: right;\">\n",
       "      <th></th>\n",
       "      <th>model</th>\n",
       "      <th>Accuracy</th>\n",
       "      <th>Precision</th>\n",
       "      <th>Recall</th>\n",
       "      <th>F1</th>\n",
       "    </tr>\n",
       "  </thead>\n",
       "  <tbody>\n",
       "    <tr>\n",
       "      <th>0</th>\n",
       "      <td>rbf svm</td>\n",
       "      <td>0.750</td>\n",
       "      <td>0.666667</td>\n",
       "      <td>0.666667</td>\n",
       "      <td>0.666667</td>\n",
       "    </tr>\n",
       "    <tr>\n",
       "      <th>0</th>\n",
       "      <td>poly svm</td>\n",
       "      <td>0.875</td>\n",
       "      <td>1.000000</td>\n",
       "      <td>0.666667</td>\n",
       "      <td>0.800000</td>\n",
       "    </tr>\n",
       "    <tr>\n",
       "      <th>0</th>\n",
       "      <td>linear svm</td>\n",
       "      <td>1.000</td>\n",
       "      <td>1.000000</td>\n",
       "      <td>1.000000</td>\n",
       "      <td>1.000000</td>\n",
       "    </tr>\n",
       "  </tbody>\n",
       "</table>\n",
       "</div>"
      ],
      "text/plain": [
       "        model  Accuracy  Precision    Recall        F1\n",
       "0     rbf svm     0.750   0.666667  0.666667  0.666667\n",
       "0    poly svm     0.875   1.000000  0.666667  0.800000\n",
       "0  linear svm     1.000   1.000000  1.000000  1.000000"
      ]
     },
     "execution_count": 165,
     "metadata": {},
     "output_type": "execute_result"
    }
   ],
   "source": [
    "performance.sort_values(by=['Accuracy'])"
   ]
  },
  {
   "cell_type": "markdown",
   "id": "87ec9a6b-2b1e-4cdf-86a4-b4ade3585bd8",
   "metadata": {},
   "source": [
    "### Model performance based on Precision"
   ]
  },
  {
   "cell_type": "code",
   "execution_count": 166,
   "id": "e9980cac-a284-4150-b4b0-61000cd78cee",
   "metadata": {},
   "outputs": [
    {
     "data": {
      "text/html": [
       "<div>\n",
       "<style scoped>\n",
       "    .dataframe tbody tr th:only-of-type {\n",
       "        vertical-align: middle;\n",
       "    }\n",
       "\n",
       "    .dataframe tbody tr th {\n",
       "        vertical-align: top;\n",
       "    }\n",
       "\n",
       "    .dataframe thead th {\n",
       "        text-align: right;\n",
       "    }\n",
       "</style>\n",
       "<table border=\"1\" class=\"dataframe\">\n",
       "  <thead>\n",
       "    <tr style=\"text-align: right;\">\n",
       "      <th></th>\n",
       "      <th>model</th>\n",
       "      <th>Accuracy</th>\n",
       "      <th>Precision</th>\n",
       "      <th>Recall</th>\n",
       "      <th>F1</th>\n",
       "    </tr>\n",
       "  </thead>\n",
       "  <tbody>\n",
       "    <tr>\n",
       "      <th>0</th>\n",
       "      <td>rbf svm</td>\n",
       "      <td>0.750</td>\n",
       "      <td>0.666667</td>\n",
       "      <td>0.666667</td>\n",
       "      <td>0.666667</td>\n",
       "    </tr>\n",
       "    <tr>\n",
       "      <th>0</th>\n",
       "      <td>linear svm</td>\n",
       "      <td>1.000</td>\n",
       "      <td>1.000000</td>\n",
       "      <td>1.000000</td>\n",
       "      <td>1.000000</td>\n",
       "    </tr>\n",
       "    <tr>\n",
       "      <th>0</th>\n",
       "      <td>poly svm</td>\n",
       "      <td>0.875</td>\n",
       "      <td>1.000000</td>\n",
       "      <td>0.666667</td>\n",
       "      <td>0.800000</td>\n",
       "    </tr>\n",
       "  </tbody>\n",
       "</table>\n",
       "</div>"
      ],
      "text/plain": [
       "        model  Accuracy  Precision    Recall        F1\n",
       "0     rbf svm     0.750   0.666667  0.666667  0.666667\n",
       "0  linear svm     1.000   1.000000  1.000000  1.000000\n",
       "0    poly svm     0.875   1.000000  0.666667  0.800000"
      ]
     },
     "execution_count": 166,
     "metadata": {},
     "output_type": "execute_result"
    }
   ],
   "source": [
    "performance.sort_values(by=['Precision'])"
   ]
  },
  {
   "cell_type": "markdown",
   "id": "a5ef51ff-5790-487d-bc2c-5a57bbc0ec9e",
   "metadata": {},
   "source": [
    "### Model performance based on Recall"
   ]
  },
  {
   "cell_type": "code",
   "execution_count": 167,
   "id": "5fc2c073-ceb5-4f59-910f-dae3386b7341",
   "metadata": {},
   "outputs": [
    {
     "data": {
      "text/html": [
       "<div>\n",
       "<style scoped>\n",
       "    .dataframe tbody tr th:only-of-type {\n",
       "        vertical-align: middle;\n",
       "    }\n",
       "\n",
       "    .dataframe tbody tr th {\n",
       "        vertical-align: top;\n",
       "    }\n",
       "\n",
       "    .dataframe thead th {\n",
       "        text-align: right;\n",
       "    }\n",
       "</style>\n",
       "<table border=\"1\" class=\"dataframe\">\n",
       "  <thead>\n",
       "    <tr style=\"text-align: right;\">\n",
       "      <th></th>\n",
       "      <th>model</th>\n",
       "      <th>Accuracy</th>\n",
       "      <th>Precision</th>\n",
       "      <th>Recall</th>\n",
       "      <th>F1</th>\n",
       "    </tr>\n",
       "  </thead>\n",
       "  <tbody>\n",
       "    <tr>\n",
       "      <th>0</th>\n",
       "      <td>rbf svm</td>\n",
       "      <td>0.750</td>\n",
       "      <td>0.666667</td>\n",
       "      <td>0.666667</td>\n",
       "      <td>0.666667</td>\n",
       "    </tr>\n",
       "    <tr>\n",
       "      <th>0</th>\n",
       "      <td>poly svm</td>\n",
       "      <td>0.875</td>\n",
       "      <td>1.000000</td>\n",
       "      <td>0.666667</td>\n",
       "      <td>0.800000</td>\n",
       "    </tr>\n",
       "    <tr>\n",
       "      <th>0</th>\n",
       "      <td>linear svm</td>\n",
       "      <td>1.000</td>\n",
       "      <td>1.000000</td>\n",
       "      <td>1.000000</td>\n",
       "      <td>1.000000</td>\n",
       "    </tr>\n",
       "  </tbody>\n",
       "</table>\n",
       "</div>"
      ],
      "text/plain": [
       "        model  Accuracy  Precision    Recall        F1\n",
       "0     rbf svm     0.750   0.666667  0.666667  0.666667\n",
       "0    poly svm     0.875   1.000000  0.666667  0.800000\n",
       "0  linear svm     1.000   1.000000  1.000000  1.000000"
      ]
     },
     "execution_count": 167,
     "metadata": {},
     "output_type": "execute_result"
    }
   ],
   "source": [
    "performance.sort_values(by=['Recall'])"
   ]
  },
  {
   "cell_type": "markdown",
   "id": "c75b44ff-dfd6-4674-9a73-652061e392c8",
   "metadata": {},
   "source": [
    "### Model performance based on F1"
   ]
  },
  {
   "cell_type": "code",
   "execution_count": 168,
   "id": "a5ebc92c-77ee-4ba1-8950-a1589b1f2156",
   "metadata": {},
   "outputs": [
    {
     "data": {
      "text/html": [
       "<div>\n",
       "<style scoped>\n",
       "    .dataframe tbody tr th:only-of-type {\n",
       "        vertical-align: middle;\n",
       "    }\n",
       "\n",
       "    .dataframe tbody tr th {\n",
       "        vertical-align: top;\n",
       "    }\n",
       "\n",
       "    .dataframe thead th {\n",
       "        text-align: right;\n",
       "    }\n",
       "</style>\n",
       "<table border=\"1\" class=\"dataframe\">\n",
       "  <thead>\n",
       "    <tr style=\"text-align: right;\">\n",
       "      <th></th>\n",
       "      <th>model</th>\n",
       "      <th>Accuracy</th>\n",
       "      <th>Precision</th>\n",
       "      <th>Recall</th>\n",
       "      <th>F1</th>\n",
       "    </tr>\n",
       "  </thead>\n",
       "  <tbody>\n",
       "    <tr>\n",
       "      <th>0</th>\n",
       "      <td>rbf svm</td>\n",
       "      <td>0.750</td>\n",
       "      <td>0.666667</td>\n",
       "      <td>0.666667</td>\n",
       "      <td>0.666667</td>\n",
       "    </tr>\n",
       "    <tr>\n",
       "      <th>0</th>\n",
       "      <td>poly svm</td>\n",
       "      <td>0.875</td>\n",
       "      <td>1.000000</td>\n",
       "      <td>0.666667</td>\n",
       "      <td>0.800000</td>\n",
       "    </tr>\n",
       "    <tr>\n",
       "      <th>0</th>\n",
       "      <td>linear svm</td>\n",
       "      <td>1.000</td>\n",
       "      <td>1.000000</td>\n",
       "      <td>1.000000</td>\n",
       "      <td>1.000000</td>\n",
       "    </tr>\n",
       "  </tbody>\n",
       "</table>\n",
       "</div>"
      ],
      "text/plain": [
       "        model  Accuracy  Precision    Recall        F1\n",
       "0     rbf svm     0.750   0.666667  0.666667  0.666667\n",
       "0    poly svm     0.875   1.000000  0.666667  0.800000\n",
       "0  linear svm     1.000   1.000000  1.000000  1.000000"
      ]
     },
     "execution_count": 168,
     "metadata": {},
     "output_type": "execute_result"
    }
   ],
   "source": [
    "performance.sort_values(by=['F1'])"
   ]
  },
  {
   "cell_type": "markdown",
   "id": "4b15d617-e36e-4596-9beb-aa5657ab0548",
   "metadata": {},
   "source": [
    "Based on the above, we have split the data into 30% test and 70% train. We notice that in most of the cases, based on the classification model performances the linear SVM is overfitting. This is because of the fact that the dataset is too small to make a perfect split. I have also noticed an issue of underfitting at 60-40% split. \n",
    "\n",
    "Hence based on the above scores alone: Precision, Accuracy, Recall and F1 score, I can confirm that poly svm is the best performing model.\n",
    "\n",
    "We will be further validating this using the cross validation and grid search efforts by tuning the parameters further to find out the best estimators and performance models. I will consider 3 folds cross validation and use gridsearch to tune my hyperparameters. But this part is not yet covered in its entirity in the class."
   ]
  },
  {
   "cell_type": "markdown",
   "id": "9b37ab4e-934b-478a-88cf-97de3b5c1c01",
   "metadata": {},
   "source": [
    "### SVM Gridsearch and Hyperparameter tuning using Gridsearch with a cross validation set to 3"
   ]
  },
  {
   "cell_type": "code",
   "execution_count": 169,
   "id": "f8cb2768-58d8-42ff-a93a-6e214c534a90",
   "metadata": {},
   "outputs": [],
   "source": [
    "#Apply kernels to transform the data to a higher dimension\n",
    "\n",
    "\n",
    "kernels = ['Polynomial', 'RBF','Linear']\n",
    "def getClassifier(ktype):\n",
    "    if ktype == 0:\n",
    "        # Polynomial kernal\n",
    "        return SVC(kernel='poly', gamma=\"auto\")\n",
    "    elif ktype == 1:\n",
    "        # Radial Basis Function kernal\n",
    "        return SVC(kernel='rbf', gamma=\"auto\")\n",
    "    elif ktype == 2:\n",
    "        # Linear kernal\n",
    "        return SVC(kernel='linear', gamma=\"auto\")"
   ]
  },
  {
   "cell_type": "code",
   "execution_count": 170,
   "id": "df59859c-1a77-4e11-85c2-1310bc716008",
   "metadata": {},
   "outputs": [
    {
     "name": "stdout",
     "output_type": "stream",
     "text": [
      "Evaluation: Polynomial kernel\n",
      "              precision    recall  f1-score   support\n",
      "\n",
      "           0       0.75      0.75      0.75         4\n",
      "           1       0.75      0.75      0.75         4\n",
      "\n",
      "    accuracy                           0.75         8\n",
      "   macro avg       0.75      0.75      0.75         8\n",
      "weighted avg       0.75      0.75      0.75         8\n",
      "\n",
      "Evaluation: RBF kernel\n",
      "              precision    recall  f1-score   support\n",
      "\n",
      "           0       1.00      0.25      0.40         4\n",
      "           1       0.57      1.00      0.73         4\n",
      "\n",
      "    accuracy                           0.62         8\n",
      "   macro avg       0.79      0.62      0.56         8\n",
      "weighted avg       0.79      0.62      0.56         8\n",
      "\n",
      "Evaluation: Linear kernel\n",
      "              precision    recall  f1-score   support\n",
      "\n",
      "           0       0.86      1.00      0.92         6\n",
      "           1       1.00      0.50      0.67         2\n",
      "\n",
      "    accuracy                           0.88         8\n",
      "   macro avg       0.93      0.75      0.79         8\n",
      "weighted avg       0.89      0.88      0.86         8\n",
      "\n"
     ]
    }
   ],
   "source": [
    "#Call the SVC() model from sklearn and fit the model to the training data\n",
    "for i in range(3):\n",
    "    # Separate data into test and training sets\n",
    "    X_train, X_test, y_train, y_test = train_test_split(X, y, test_size = 0.30)# Train a SVC model using different kernal\n",
    "    svclassifier = getClassifier(i) \n",
    "    svclassifier.fit(X_train, y_train)# Make prediction\n",
    "    y_pred = svclassifier.predict(X_test)# Evaluate our model\n",
    "    print(\"Evaluation:\", kernels[i], \"kernel\")\n",
    "    print(classification_report(y_test,y_pred))\n"
   ]
  },
  {
   "cell_type": "markdown",
   "id": "6829e51d-70ef-466a-bd3b-4bc3d4f5eeac",
   "metadata": {},
   "source": [
    "From the above grid results, it is easily shown that the Linear SVC is showing the best results for the observed values. \n",
    "\n",
    "To further evaluate this, we can tune the hyperparameters to find the best parameters and best performing model."
   ]
  },
  {
   "cell_type": "code",
   "execution_count": 171,
   "id": "ad358282-038a-48c4-863f-22af1b2425f8",
   "metadata": {},
   "outputs": [],
   "source": [
    "from sklearn.model_selection import GridSearchCV #Importing GridSearchCV : used to evaluate the best model combinitions and for hyperparameter tuning."
   ]
  },
  {
   "cell_type": "code",
   "execution_count": 172,
   "id": "b87820e9-cc99-4dc4-9c13-79f2674f2edb",
   "metadata": {},
   "outputs": [],
   "source": [
    "param_grid = [{\"kernel\": [\"linear\"], \"C\": [0.0001, 0.001, 0.1, 1, 10, 100, 1000]},{\"kernel\": [\"poly\"], \"degree\": [2, 3, 4], \"C\": [0.0001, 0.001, 0.1, 1, 10, 100, 1000]}, {\"kernel\": [\"rbf\"],\"gamma\": [\"auto\", \"scale\"],\"C\": [0.0001, 0.001, 0.1, 1, 10, 100, 1000]}] #Create a dictionary called param_grid and fill out some parameters for kernels, C and gamma\n"
   ]
  },
  {
   "cell_type": "code",
   "execution_count": 173,
   "id": "18d35daf-695c-42a8-9c9a-49f051f32067",
   "metadata": {},
   "outputs": [
    {
     "name": "stdout",
     "output_type": "stream",
     "text": [
      "Fitting 3 folds for each of 42 candidates, totalling 126 fits\n",
      "[CV] END ............................C=0.0001, kernel=linear; total time=   0.0s\n",
      "[CV] END ............................C=0.0001, kernel=linear; total time=   0.0s\n",
      "[CV] END ............................C=0.0001, kernel=linear; total time=   0.0s\n",
      "[CV] END .............................C=0.001, kernel=linear; total time=   0.0s\n",
      "[CV] END .............................C=0.001, kernel=linear; total time=   0.0s\n",
      "[CV] END .............................C=0.001, kernel=linear; total time=   0.0s\n",
      "[CV] END ...............................C=0.1, kernel=linear; total time=   0.0s\n",
      "[CV] END ...............................C=0.1, kernel=linear; total time=   0.0s\n",
      "[CV] END ...............................C=0.1, kernel=linear; total time=   0.0s\n",
      "[CV] END .................................C=1, kernel=linear; total time=   0.0s\n",
      "[CV] END .................................C=1, kernel=linear; total time=   0.0s\n",
      "[CV] END .................................C=1, kernel=linear; total time=   0.0s\n",
      "[CV] END ................................C=10, kernel=linear; total time=   0.0s\n",
      "[CV] END ................................C=10, kernel=linear; total time=   0.0s\n",
      "[CV] END ................................C=10, kernel=linear; total time=   0.0s\n",
      "[CV] END ...............................C=100, kernel=linear; total time=   0.0s\n",
      "[CV] END ...............................C=100, kernel=linear; total time=   0.0s\n",
      "[CV] END ...............................C=100, kernel=linear; total time=   0.0s\n",
      "[CV] END ..............................C=1000, kernel=linear; total time=   0.0s\n",
      "[CV] END ..............................C=1000, kernel=linear; total time=   0.0s\n",
      "[CV] END ..............................C=1000, kernel=linear; total time=   0.0s\n",
      "[CV] END ....................C=0.0001, degree=2, kernel=poly; total time=   0.0s\n",
      "[CV] END ....................C=0.0001, degree=2, kernel=poly; total time=   0.0s\n",
      "[CV] END ....................C=0.0001, degree=2, kernel=poly; total time=   0.0s\n",
      "[CV] END ....................C=0.0001, degree=3, kernel=poly; total time=   0.0s\n",
      "[CV] END ....................C=0.0001, degree=3, kernel=poly; total time=   0.0s\n",
      "[CV] END ....................C=0.0001, degree=3, kernel=poly; total time=   0.0s\n",
      "[CV] END ....................C=0.0001, degree=4, kernel=poly; total time=   0.0s\n",
      "[CV] END ....................C=0.0001, degree=4, kernel=poly; total time=   0.0s\n",
      "[CV] END ....................C=0.0001, degree=4, kernel=poly; total time=   0.0s\n",
      "[CV] END .....................C=0.001, degree=2, kernel=poly; total time=   0.0s\n",
      "[CV] END .....................C=0.001, degree=2, kernel=poly; total time=   0.0s\n",
      "[CV] END .....................C=0.001, degree=2, kernel=poly; total time=   0.0s\n",
      "[CV] END .....................C=0.001, degree=3, kernel=poly; total time=   0.0s\n",
      "[CV] END .....................C=0.001, degree=3, kernel=poly; total time=   0.0s\n",
      "[CV] END .....................C=0.001, degree=3, kernel=poly; total time=   0.0s\n",
      "[CV] END .....................C=0.001, degree=4, kernel=poly; total time=   0.0s\n",
      "[CV] END .....................C=0.001, degree=4, kernel=poly; total time=   0.0s\n",
      "[CV] END .....................C=0.001, degree=4, kernel=poly; total time=   0.0s\n",
      "[CV] END .......................C=0.1, degree=2, kernel=poly; total time=   0.0s\n",
      "[CV] END .......................C=0.1, degree=2, kernel=poly; total time=   0.0s\n",
      "[CV] END .......................C=0.1, degree=2, kernel=poly; total time=   0.0s\n",
      "[CV] END .......................C=0.1, degree=3, kernel=poly; total time=   0.0s\n",
      "[CV] END .......................C=0.1, degree=3, kernel=poly; total time=   0.0s\n",
      "[CV] END .......................C=0.1, degree=3, kernel=poly; total time=   0.0s\n",
      "[CV] END .......................C=0.1, degree=4, kernel=poly; total time=   0.0s\n",
      "[CV] END .......................C=0.1, degree=4, kernel=poly; total time=   0.0s\n",
      "[CV] END .......................C=0.1, degree=4, kernel=poly; total time=   0.0s\n",
      "[CV] END .........................C=1, degree=2, kernel=poly; total time=   0.0s\n",
      "[CV] END .........................C=1, degree=2, kernel=poly; total time=   0.0s\n",
      "[CV] END .........................C=1, degree=2, kernel=poly; total time=   0.0s\n",
      "[CV] END .........................C=1, degree=3, kernel=poly; total time=   0.0s\n",
      "[CV] END .........................C=1, degree=3, kernel=poly; total time=   0.0s\n",
      "[CV] END .........................C=1, degree=3, kernel=poly; total time=   0.0s\n",
      "[CV] END .........................C=1, degree=4, kernel=poly; total time=   0.0s\n",
      "[CV] END .........................C=1, degree=4, kernel=poly; total time=   0.0s\n",
      "[CV] END .........................C=1, degree=4, kernel=poly; total time=   0.0s\n",
      "[CV] END ........................C=10, degree=2, kernel=poly; total time=   0.0s\n",
      "[CV] END ........................C=10, degree=2, kernel=poly; total time=   0.0s\n",
      "[CV] END ........................C=10, degree=2, kernel=poly; total time=   0.0s\n",
      "[CV] END ........................C=10, degree=3, kernel=poly; total time=   0.0s\n",
      "[CV] END ........................C=10, degree=3, kernel=poly; total time=   0.0s\n",
      "[CV] END ........................C=10, degree=3, kernel=poly; total time=   0.0s\n",
      "[CV] END ........................C=10, degree=4, kernel=poly; total time=   0.0s\n",
      "[CV] END ........................C=10, degree=4, kernel=poly; total time=   0.0s\n",
      "[CV] END ........................C=10, degree=4, kernel=poly; total time=   0.0s\n",
      "[CV] END .......................C=100, degree=2, kernel=poly; total time=   0.0s\n",
      "[CV] END .......................C=100, degree=2, kernel=poly; total time=   0.0s\n",
      "[CV] END .......................C=100, degree=2, kernel=poly; total time=   0.0s\n",
      "[CV] END .......................C=100, degree=3, kernel=poly; total time=   0.0s\n",
      "[CV] END .......................C=100, degree=3, kernel=poly; total time=   0.0s\n",
      "[CV] END .......................C=100, degree=3, kernel=poly; total time=   0.0s\n",
      "[CV] END .......................C=100, degree=4, kernel=poly; total time=   0.0s\n",
      "[CV] END .......................C=100, degree=4, kernel=poly; total time=   0.0s\n",
      "[CV] END .......................C=100, degree=4, kernel=poly; total time=   0.0s\n",
      "[CV] END ......................C=1000, degree=2, kernel=poly; total time=   0.0s\n",
      "[CV] END ......................C=1000, degree=2, kernel=poly; total time=   0.0s\n",
      "[CV] END ......................C=1000, degree=2, kernel=poly; total time=   0.0s\n",
      "[CV] END ......................C=1000, degree=3, kernel=poly; total time=   0.0s\n",
      "[CV] END ......................C=1000, degree=3, kernel=poly; total time=   0.0s\n",
      "[CV] END ......................C=1000, degree=3, kernel=poly; total time=   0.0s\n",
      "[CV] END ......................C=1000, degree=4, kernel=poly; total time=   0.0s\n",
      "[CV] END ......................C=1000, degree=4, kernel=poly; total time=   0.0s\n",
      "[CV] END ......................C=1000, degree=4, kernel=poly; total time=   0.0s\n",
      "[CV] END ...................C=0.0001, gamma=auto, kernel=rbf; total time=   0.0s\n",
      "[CV] END ...................C=0.0001, gamma=auto, kernel=rbf; total time=   0.0s\n",
      "[CV] END ...................C=0.0001, gamma=auto, kernel=rbf; total time=   0.0s\n",
      "[CV] END ..................C=0.0001, gamma=scale, kernel=rbf; total time=   0.0s\n",
      "[CV] END ..................C=0.0001, gamma=scale, kernel=rbf; total time=   0.0s\n",
      "[CV] END ..................C=0.0001, gamma=scale, kernel=rbf; total time=   0.0s\n",
      "[CV] END ....................C=0.001, gamma=auto, kernel=rbf; total time=   0.0s\n",
      "[CV] END ....................C=0.001, gamma=auto, kernel=rbf; total time=   0.0s\n",
      "[CV] END ....................C=0.001, gamma=auto, kernel=rbf; total time=   0.0s\n",
      "[CV] END ...................C=0.001, gamma=scale, kernel=rbf; total time=   0.0s\n",
      "[CV] END ...................C=0.001, gamma=scale, kernel=rbf; total time=   0.0s\n",
      "[CV] END ...................C=0.001, gamma=scale, kernel=rbf; total time=   0.0s\n",
      "[CV] END ......................C=0.1, gamma=auto, kernel=rbf; total time=   0.0s\n",
      "[CV] END ......................C=0.1, gamma=auto, kernel=rbf; total time=   0.0s\n",
      "[CV] END ......................C=0.1, gamma=auto, kernel=rbf; total time=   0.0s\n",
      "[CV] END .....................C=0.1, gamma=scale, kernel=rbf; total time=   0.0s\n",
      "[CV] END .....................C=0.1, gamma=scale, kernel=rbf; total time=   0.0s\n",
      "[CV] END .....................C=0.1, gamma=scale, kernel=rbf; total time=   0.0s\n",
      "[CV] END ........................C=1, gamma=auto, kernel=rbf; total time=   0.0s\n",
      "[CV] END ........................C=1, gamma=auto, kernel=rbf; total time=   0.0s\n",
      "[CV] END ........................C=1, gamma=auto, kernel=rbf; total time=   0.0s\n",
      "[CV] END .......................C=1, gamma=scale, kernel=rbf; total time=   0.0s\n",
      "[CV] END .......................C=1, gamma=scale, kernel=rbf; total time=   0.0s\n",
      "[CV] END .......................C=1, gamma=scale, kernel=rbf; total time=   0.0s\n",
      "[CV] END .......................C=10, gamma=auto, kernel=rbf; total time=   0.0s\n",
      "[CV] END .......................C=10, gamma=auto, kernel=rbf; total time=   0.0s\n",
      "[CV] END .......................C=10, gamma=auto, kernel=rbf; total time=   0.0s\n",
      "[CV] END ......................C=10, gamma=scale, kernel=rbf; total time=   0.0s\n",
      "[CV] END ......................C=10, gamma=scale, kernel=rbf; total time=   0.0s\n",
      "[CV] END ......................C=10, gamma=scale, kernel=rbf; total time=   0.0s\n",
      "[CV] END ......................C=100, gamma=auto, kernel=rbf; total time=   0.0s\n",
      "[CV] END ......................C=100, gamma=auto, kernel=rbf; total time=   0.0s\n",
      "[CV] END ......................C=100, gamma=auto, kernel=rbf; total time=   0.0s\n",
      "[CV] END .....................C=100, gamma=scale, kernel=rbf; total time=   0.0s\n",
      "[CV] END .....................C=100, gamma=scale, kernel=rbf; total time=   0.0s\n",
      "[CV] END .....................C=100, gamma=scale, kernel=rbf; total time=   0.0s\n",
      "[CV] END .....................C=1000, gamma=auto, kernel=rbf; total time=   0.0s\n",
      "[CV] END .....................C=1000, gamma=auto, kernel=rbf; total time=   0.0s\n",
      "[CV] END .....................C=1000, gamma=auto, kernel=rbf; total time=   0.0s\n",
      "[CV] END ....................C=1000, gamma=scale, kernel=rbf; total time=   0.0s\n",
      "[CV] END ....................C=1000, gamma=scale, kernel=rbf; total time=   0.0s\n",
      "[CV] END ....................C=1000, gamma=scale, kernel=rbf; total time=   0.0s\n"
     ]
    },
    {
     "data": {
      "text/plain": [
       "GridSearchCV(cv=3, estimator=SVC(),\n",
       "             param_grid=[{'C': [0.0001, 0.001, 0.1, 1, 10, 100, 1000],\n",
       "                          'kernel': ['linear']},\n",
       "                         {'C': [0.0001, 0.001, 0.1, 1, 10, 100, 1000],\n",
       "                          'degree': [2, 3, 4], 'kernel': ['poly']},\n",
       "                         {'C': [0.0001, 0.001, 0.1, 1, 10, 100, 1000],\n",
       "                          'gamma': ['auto', 'scale'], 'kernel': ['rbf']}],\n",
       "             scoring='accuracy', verbose=2)"
      ]
     },
     "execution_count": 173,
     "metadata": {},
     "output_type": "execute_result"
    }
   ],
   "source": [
    "grid = GridSearchCV(SVC(),param_grid,refit=True,verbose=2, cv=3, scoring='accuracy')\n",
    "grid.fit(X_train,y_train)"
   ]
  },
  {
   "cell_type": "code",
   "execution_count": 174,
   "id": "4cd1159b-1ddb-4ddf-a09c-ee8a6a00cbe8",
   "metadata": {},
   "outputs": [
    {
     "name": "stdout",
     "output_type": "stream",
     "text": [
      "SVC(C=1000, degree=4, kernel='poly')\n"
     ]
    }
   ],
   "source": [
    "print(grid.best_estimator_) #Finding the optimal parameters"
   ]
  },
  {
   "cell_type": "code",
   "execution_count": 175,
   "id": "074f244d-945b-4eb7-bf32-0a245d6bc581",
   "metadata": {},
   "outputs": [
    {
     "name": "stdout",
     "output_type": "stream",
     "text": [
      "{'C': 1000, 'degree': 4, 'kernel': 'poly'}\n"
     ]
    }
   ],
   "source": [
    "# print best parameter after tuning\n",
    "print(grid.best_params_)"
   ]
  },
  {
   "cell_type": "code",
   "execution_count": 176,
   "id": "9109c63d-3eb6-4005-83f5-9f496d0a7678",
   "metadata": {},
   "outputs": [
    {
     "name": "stdout",
     "output_type": "stream",
     "text": [
      "0.8111111111111112\n"
     ]
    }
   ],
   "source": [
    "best_result = grid.best_score_    #Grid best score\n",
    "print(best_result)"
   ]
  },
  {
   "cell_type": "markdown",
   "id": "2abea48f-fae5-4b2f-8077-4e70ec484922",
   "metadata": {},
   "source": [
    "As per the above, it can be determined that the Polynomial kernel is being the best estimater so far with the best parameters as shown under best_estimator results.The accuracy score of the best parameters prediction is 81%."
   ]
  },
  {
   "cell_type": "markdown",
   "id": "9cfdb94a-12fc-4be7-8120-e45ef00330e1",
   "metadata": {},
   "source": [
    "<b>Conclusion</b>: Based on the results when the CV of 3 folds evaluates the best performing while using the grid search with optimized parameters, we see that overall, polynomial svm appears to be working the best.\n",
    "\n",
    "But since we are considering the model performance based on the precision, recall, accuracy and F1 scores alone, based on the observed values for the classification model performance for SVM, polynomial kernel is always at the top for accuracy, precision, recall and f1 score if we neglect the linear svm model which is overfitting. Hence considering poly to be the best performing model."
   ]
  },
  {
   "cell_type": "code",
   "execution_count": 179,
   "id": "504d94c8-2975-487e-b4b2-6580ffd32bc9",
   "metadata": {},
   "outputs": [],
   "source": [
    "#Saving the winning model using pickle to a csv file.\n",
    "\n",
    "import pickle\n",
    "\n",
    "pickle.dump(svm_poly_model, open('C:/Users/Srinidhi/Documents/USF/Data_Science_Programming/Week3_Assignments/RidingMowers_pickle.csv', 'wb'))\n",
    "\n",
    "\n",
    "\n"
   ]
  }
 ],
 "metadata": {
  "kernelspec": {
   "display_name": "Python 3 (ipykernel)",
   "language": "python",
   "name": "python3"
  },
  "language_info": {
   "codemirror_mode": {
    "name": "ipython",
    "version": 3
   },
   "file_extension": ".py",
   "mimetype": "text/x-python",
   "name": "python",
   "nbconvert_exporter": "python",
   "pygments_lexer": "ipython3",
   "version": "3.9.12"
  }
 },
 "nbformat": 4,
 "nbformat_minor": 5
}
