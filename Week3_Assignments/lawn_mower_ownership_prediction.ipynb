{
 "cells": [
  {
   "cell_type": "code",
   "execution_count": 16,
   "id": "5f506f3e-e66b-4809-ae71-0540c04897a6",
   "metadata": {},
   "outputs": [
    {
     "name": "stdout",
     "output_type": "stream",
     "text": [
      "\n",
      "*****************************************************\n",
      "* Lawn mower ownership prediction*\n",
      "*****************************************************\n",
      "\n"
     ]
    },
    {
     "name": "stdin",
     "output_type": "stream",
     "text": [
      "Enter the Income of the household:  93\n",
      "Enter the Lot Size:  20.8\n"
     ]
    },
    {
     "name": "stdout",
     "output_type": "stream",
     "text": [
      "\n",
      "The lawn mower ownership prediction model indicates probability of ownership of a lawn mower at 0.5735, therefore it's indicated they are: Nonowner.\n",
      "\n"
     ]
    }
   ],
   "source": [
    "import pandas as pd\n",
    "import numpy as np\n",
    "import matplotlib.pyplot as plt\n",
    "from sklearn.metrics import confusion_matrix\n",
    "\n",
    "import pickle\n",
    "\n",
    "# Uncomment the following snippet of code to debug problems with finding the .pkl file path\n",
    "# This snippet of code will exit the program and print the current working directory.\n",
    "#import os\n",
    "#exit(os.getcwd())\n",
    "\n",
    "#We are using the svm polynomial model in order to make our lawn mower ownership prediction.\n",
    "\n",
    "svm_poly_model = pickle.load(open('C:/Users/Srinidhi/Documents/USF/Data_Science_Programming/Week3_Assignments/RidingMowers_pickle.csv', \"rb\"))\n",
    "\n",
    "print(\"\\n*****************************************************\")\n",
    "print(\"* Lawn mower ownership prediction*\")\n",
    "print(\"*****************************************************\\n\")\n",
    "Income = float(input(\"Enter the Income of the household: \"))\n",
    "Lot_Size = float(input(\"Enter the Lot Size: \"))\n",
    "df = pd.DataFrame({'Income': [Income], 'Lot_Size' : [Lot_Size]})\n",
    "result = cancer_model.predict(df)\n",
    "probability = cancer_model.predict_proba(df)\n",
    "Owner_state = ('Owner', 'Nonowner')\n",
    "print(f\"\\nThe lawn mower ownership prediction model indicates probability of ownership of a lawn mower at {probability[0][1]:.4f}, therefore it's indicated they are: {Owner_state[result[0]]}.\\n\")\n"
   ]
  }
 ],
 "metadata": {
  "kernelspec": {
   "display_name": "Python 3 (ipykernel)",
   "language": "python",
   "name": "python3"
  },
  "language_info": {
   "codemirror_mode": {
    "name": "ipython",
    "version": 3
   },
   "file_extension": ".py",
   "mimetype": "text/x-python",
   "name": "python",
   "nbconvert_exporter": "python",
   "pygments_lexer": "ipython3",
   "version": "3.9.12"
  }
 },
 "nbformat": 4,
 "nbformat_minor": 5
}
