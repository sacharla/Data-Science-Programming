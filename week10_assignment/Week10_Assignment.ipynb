{
 "cells": [
  {
   "cell_type": "markdown",
   "id": "c2dedbe0-2ff9-4c0a-8bd2-7c4d66ace46c",
   "metadata": {},
   "source": [
    "# Assignment week 10 RNN\n",
    "\n",
    "Name: Srinidhi Acharla"
   ]
  },
  {
   "cell_type": "code",
   "execution_count": 17,
   "id": "b6f53159-ff65-4767-9fc7-a41233e3a06c",
   "metadata": {},
   "outputs": [],
   "source": [
    "import tensorflow as tf\n",
    "from tensorflow import keras\n",
    "from sklearn.metrics import mean_squared_error\n",
    "\n",
    "\n",
    "# Common imports\n",
    "import numpy as np\n",
    "import pandas as pd\n",
    "import os\n",
    "\n",
    "# to make this notebook's output stable across runs\n",
    "np.random.seed(42)\n",
    "\n",
    "# To plot pretty figures\n",
    "%matplotlib inline\n",
    "import matplotlib as mpl\n",
    "import matplotlib.pyplot as plt\n",
    "mpl.rc('axes', labelsize=14)\n",
    "mpl.rc('xtick', labelsize=12)\n",
    "mpl.rc('ytick', labelsize=12)\n"
   ]
  },
  {
   "cell_type": "code",
   "execution_count": 18,
   "id": "ed752501-1a38-4a5a-850a-3f415d25a9ea",
   "metadata": {},
   "outputs": [],
   "source": [
    "df = pd.read_csv('C:/Users/Srinidhi/Documents/USF/Data_Science_Programming/week10_assignment/LTC-USD.csv',  parse_dates=True)"
   ]
  },
  {
   "cell_type": "code",
   "execution_count": 19,
   "id": "048bb74e-c884-43b2-8c86-dfe76e8a8760",
   "metadata": {},
   "outputs": [
    {
     "data": {
      "text/html": [
       "<div>\n",
       "<style scoped>\n",
       "    .dataframe tbody tr th:only-of-type {\n",
       "        vertical-align: middle;\n",
       "    }\n",
       "\n",
       "    .dataframe tbody tr th {\n",
       "        vertical-align: top;\n",
       "    }\n",
       "\n",
       "    .dataframe thead th {\n",
       "        text-align: right;\n",
       "    }\n",
       "</style>\n",
       "<table border=\"1\" class=\"dataframe\">\n",
       "  <thead>\n",
       "    <tr style=\"text-align: right;\">\n",
       "      <th></th>\n",
       "      <th>Date</th>\n",
       "      <th>Open</th>\n",
       "      <th>High</th>\n",
       "      <th>Low</th>\n",
       "      <th>Close</th>\n",
       "      <th>Adj Close</th>\n",
       "      <th>Volume</th>\n",
       "    </tr>\n",
       "  </thead>\n",
       "  <tbody>\n",
       "    <tr>\n",
       "      <th>0</th>\n",
       "      <td>2022-02-02</td>\n",
       "      <td>115.404503</td>\n",
       "      <td>115.882263</td>\n",
       "      <td>108.436996</td>\n",
       "      <td>108.556023</td>\n",
       "      <td>108.556023</td>\n",
       "      <td>743395485</td>\n",
       "    </tr>\n",
       "    <tr>\n",
       "      <th>1</th>\n",
       "      <td>2022-02-03</td>\n",
       "      <td>108.534653</td>\n",
       "      <td>110.287003</td>\n",
       "      <td>106.417969</td>\n",
       "      <td>110.287003</td>\n",
       "      <td>110.287003</td>\n",
       "      <td>683428425</td>\n",
       "    </tr>\n",
       "    <tr>\n",
       "      <th>2</th>\n",
       "      <td>2022-02-04</td>\n",
       "      <td>110.291100</td>\n",
       "      <td>120.922211</td>\n",
       "      <td>109.004990</td>\n",
       "      <td>120.918037</td>\n",
       "      <td>120.918037</td>\n",
       "      <td>953726676</td>\n",
       "    </tr>\n",
       "    <tr>\n",
       "      <th>3</th>\n",
       "      <td>2022-02-05</td>\n",
       "      <td>120.923294</td>\n",
       "      <td>123.394882</td>\n",
       "      <td>119.245705</td>\n",
       "      <td>121.916740</td>\n",
       "      <td>121.916740</td>\n",
       "      <td>736360985</td>\n",
       "    </tr>\n",
       "    <tr>\n",
       "      <th>4</th>\n",
       "      <td>2022-02-06</td>\n",
       "      <td>121.919350</td>\n",
       "      <td>127.445503</td>\n",
       "      <td>121.427155</td>\n",
       "      <td>127.445503</td>\n",
       "      <td>127.445503</td>\n",
       "      <td>782675364</td>\n",
       "    </tr>\n",
       "    <tr>\n",
       "      <th>...</th>\n",
       "      <td>...</td>\n",
       "      <td>...</td>\n",
       "      <td>...</td>\n",
       "      <td>...</td>\n",
       "      <td>...</td>\n",
       "      <td>...</td>\n",
       "      <td>...</td>\n",
       "    </tr>\n",
       "    <tr>\n",
       "      <th>445</th>\n",
       "      <td>2023-04-23</td>\n",
       "      <td>87.098724</td>\n",
       "      <td>87.130852</td>\n",
       "      <td>84.923111</td>\n",
       "      <td>86.897324</td>\n",
       "      <td>86.897324</td>\n",
       "      <td>382921210</td>\n",
       "    </tr>\n",
       "    <tr>\n",
       "      <th>446</th>\n",
       "      <td>2023-04-24</td>\n",
       "      <td>86.884995</td>\n",
       "      <td>88.882362</td>\n",
       "      <td>86.374855</td>\n",
       "      <td>88.407341</td>\n",
       "      <td>88.407341</td>\n",
       "      <td>516200917</td>\n",
       "    </tr>\n",
       "    <tr>\n",
       "      <th>447</th>\n",
       "      <td>2023-04-25</td>\n",
       "      <td>88.402985</td>\n",
       "      <td>91.654968</td>\n",
       "      <td>87.416229</td>\n",
       "      <td>91.108345</td>\n",
       "      <td>91.108345</td>\n",
       "      <td>614049406</td>\n",
       "    </tr>\n",
       "    <tr>\n",
       "      <th>448</th>\n",
       "      <td>2023-04-26</td>\n",
       "      <td>91.107857</td>\n",
       "      <td>93.802841</td>\n",
       "      <td>85.433022</td>\n",
       "      <td>88.254189</td>\n",
       "      <td>88.254189</td>\n",
       "      <td>798720366</td>\n",
       "    </tr>\n",
       "    <tr>\n",
       "      <th>449</th>\n",
       "      <td>2023-04-27</td>\n",
       "      <td>88.164787</td>\n",
       "      <td>90.510696</td>\n",
       "      <td>88.164787</td>\n",
       "      <td>89.129784</td>\n",
       "      <td>89.129784</td>\n",
       "      <td>868608896</td>\n",
       "    </tr>\n",
       "  </tbody>\n",
       "</table>\n",
       "<p>450 rows × 7 columns</p>\n",
       "</div>"
      ],
      "text/plain": [
       "           Date        Open        High         Low       Close   Adj Close  \\\n",
       "0    2022-02-02  115.404503  115.882263  108.436996  108.556023  108.556023   \n",
       "1    2022-02-03  108.534653  110.287003  106.417969  110.287003  110.287003   \n",
       "2    2022-02-04  110.291100  120.922211  109.004990  120.918037  120.918037   \n",
       "3    2022-02-05  120.923294  123.394882  119.245705  121.916740  121.916740   \n",
       "4    2022-02-06  121.919350  127.445503  121.427155  127.445503  127.445503   \n",
       "..          ...         ...         ...         ...         ...         ...   \n",
       "445  2023-04-23   87.098724   87.130852   84.923111   86.897324   86.897324   \n",
       "446  2023-04-24   86.884995   88.882362   86.374855   88.407341   88.407341   \n",
       "447  2023-04-25   88.402985   91.654968   87.416229   91.108345   91.108345   \n",
       "448  2023-04-26   91.107857   93.802841   85.433022   88.254189   88.254189   \n",
       "449  2023-04-27   88.164787   90.510696   88.164787   89.129784   89.129784   \n",
       "\n",
       "        Volume  \n",
       "0    743395485  \n",
       "1    683428425  \n",
       "2    953726676  \n",
       "3    736360985  \n",
       "4    782675364  \n",
       "..         ...  \n",
       "445  382921210  \n",
       "446  516200917  \n",
       "447  614049406  \n",
       "448  798720366  \n",
       "449  868608896  \n",
       "\n",
       "[450 rows x 7 columns]"
      ]
     },
     "execution_count": 19,
     "metadata": {},
     "output_type": "execute_result"
    }
   ],
   "source": [
    "df"
   ]
  },
  {
   "cell_type": "code",
   "execution_count": 20,
   "id": "59f5ac01-346a-4b89-8d91-ffa72622fae3",
   "metadata": {},
   "outputs": [
    {
     "data": {
      "text/plain": [
       "Index(['Date', 'Open', 'High', 'Low', 'Close', 'Adj Close', 'Volume'], dtype='object')"
      ]
     },
     "execution_count": 20,
     "metadata": {},
     "output_type": "execute_result"
    }
   ],
   "source": [
    "df.columns"
   ]
  },
  {
   "cell_type": "code",
   "execution_count": 21,
   "id": "64638ee4-3e98-4b82-bf30-a42b0f464bd8",
   "metadata": {},
   "outputs": [],
   "source": [
    "closing_price = df[\"Close\"][-100:] #Here I am trying to collect the closing prices for the past 60 days"
   ]
  },
  {
   "cell_type": "code",
   "execution_count": 22,
   "id": "b670f102-93e4-4b92-850b-d8857df3411f",
   "metadata": {},
   "outputs": [
    {
     "data": {
      "text/html": [
       "<div>\n",
       "<style scoped>\n",
       "    .dataframe tbody tr th:only-of-type {\n",
       "        vertical-align: middle;\n",
       "    }\n",
       "\n",
       "    .dataframe tbody tr th {\n",
       "        vertical-align: top;\n",
       "    }\n",
       "\n",
       "    .dataframe thead th {\n",
       "        text-align: right;\n",
       "    }\n",
       "</style>\n",
       "<table border=\"1\" class=\"dataframe\">\n",
       "  <thead>\n",
       "    <tr style=\"text-align: right;\">\n",
       "      <th></th>\n",
       "      <th>Date</th>\n",
       "      <th>ClosePrice</th>\n",
       "    </tr>\n",
       "  </thead>\n",
       "  <tbody>\n",
       "    <tr>\n",
       "      <th>0</th>\n",
       "      <td>350</td>\n",
       "      <td>82.775330</td>\n",
       "    </tr>\n",
       "    <tr>\n",
       "      <th>1</th>\n",
       "      <td>351</td>\n",
       "      <td>84.232269</td>\n",
       "    </tr>\n",
       "    <tr>\n",
       "      <th>2</th>\n",
       "      <td>352</td>\n",
       "      <td>90.493225</td>\n",
       "    </tr>\n",
       "    <tr>\n",
       "      <th>3</th>\n",
       "      <td>353</td>\n",
       "      <td>88.314651</td>\n",
       "    </tr>\n",
       "    <tr>\n",
       "      <th>4</th>\n",
       "      <td>354</td>\n",
       "      <td>87.629974</td>\n",
       "    </tr>\n",
       "    <tr>\n",
       "      <th>...</th>\n",
       "      <td>...</td>\n",
       "      <td>...</td>\n",
       "    </tr>\n",
       "    <tr>\n",
       "      <th>95</th>\n",
       "      <td>445</td>\n",
       "      <td>86.897324</td>\n",
       "    </tr>\n",
       "    <tr>\n",
       "      <th>96</th>\n",
       "      <td>446</td>\n",
       "      <td>88.407341</td>\n",
       "    </tr>\n",
       "    <tr>\n",
       "      <th>97</th>\n",
       "      <td>447</td>\n",
       "      <td>91.108345</td>\n",
       "    </tr>\n",
       "    <tr>\n",
       "      <th>98</th>\n",
       "      <td>448</td>\n",
       "      <td>88.254189</td>\n",
       "    </tr>\n",
       "    <tr>\n",
       "      <th>99</th>\n",
       "      <td>449</td>\n",
       "      <td>89.129784</td>\n",
       "    </tr>\n",
       "  </tbody>\n",
       "</table>\n",
       "<p>100 rows × 2 columns</p>\n",
       "</div>"
      ],
      "text/plain": [
       "    Date  ClosePrice\n",
       "0    350   82.775330\n",
       "1    351   84.232269\n",
       "2    352   90.493225\n",
       "3    353   88.314651\n",
       "4    354   87.629974\n",
       "..   ...         ...\n",
       "95   445   86.897324\n",
       "96   446   88.407341\n",
       "97   447   91.108345\n",
       "98   448   88.254189\n",
       "99   449   89.129784\n",
       "\n",
       "[100 rows x 2 columns]"
      ]
     },
     "execution_count": 22,
     "metadata": {},
     "output_type": "execute_result"
    }
   ],
   "source": [
    "\n",
    "df = pd.DataFrame({'Date': closing_price.index, 'ClosePrice': closing_price.values}) #storing the values of the Date and the closing price into the pandas dataframe\n",
    "df"
   ]
  },
  {
   "cell_type": "markdown",
   "id": "4e0514e0-3823-4ffe-8961-cf2255fa7bbd",
   "metadata": {},
   "source": [
    "# Reshape the data"
   ]
  },
  {
   "cell_type": "code",
   "execution_count": 23,
   "id": "c30fcdb0-88bd-4d1b-b619-7771d1edcff8",
   "metadata": {},
   "outputs": [
    {
     "data": {
      "text/plain": [
       "10.0"
      ]
     },
     "execution_count": 23,
     "metadata": {},
     "output_type": "execute_result"
    }
   ],
   "source": [
    "df.shape[0]/10 #Here I reshape the data"
   ]
  },
  {
   "cell_type": "code",
   "execution_count": 24,
   "id": "ae0ea141-d9b5-4026-add7-4644035efbd0",
   "metadata": {},
   "outputs": [
    {
     "data": {
      "text/html": [
       "<div>\n",
       "<style scoped>\n",
       "    .dataframe tbody tr th:only-of-type {\n",
       "        vertical-align: middle;\n",
       "    }\n",
       "\n",
       "    .dataframe tbody tr th {\n",
       "        vertical-align: top;\n",
       "    }\n",
       "\n",
       "    .dataframe thead th {\n",
       "        text-align: right;\n",
       "    }\n",
       "</style>\n",
       "<table border=\"1\" class=\"dataframe\">\n",
       "  <thead>\n",
       "    <tr style=\"text-align: right;\">\n",
       "      <th></th>\n",
       "      <th>ClosePrice</th>\n",
       "    </tr>\n",
       "    <tr>\n",
       "      <th>Date</th>\n",
       "      <th></th>\n",
       "    </tr>\n",
       "  </thead>\n",
       "  <tbody>\n",
       "    <tr>\n",
       "      <th>350</th>\n",
       "      <td>1</td>\n",
       "    </tr>\n",
       "    <tr>\n",
       "      <th>351</th>\n",
       "      <td>1</td>\n",
       "    </tr>\n",
       "    <tr>\n",
       "      <th>352</th>\n",
       "      <td>1</td>\n",
       "    </tr>\n",
       "    <tr>\n",
       "      <th>353</th>\n",
       "      <td>1</td>\n",
       "    </tr>\n",
       "    <tr>\n",
       "      <th>354</th>\n",
       "      <td>1</td>\n",
       "    </tr>\n",
       "    <tr>\n",
       "      <th>...</th>\n",
       "      <td>...</td>\n",
       "    </tr>\n",
       "    <tr>\n",
       "      <th>445</th>\n",
       "      <td>1</td>\n",
       "    </tr>\n",
       "    <tr>\n",
       "      <th>446</th>\n",
       "      <td>1</td>\n",
       "    </tr>\n",
       "    <tr>\n",
       "      <th>447</th>\n",
       "      <td>1</td>\n",
       "    </tr>\n",
       "    <tr>\n",
       "      <th>448</th>\n",
       "      <td>1</td>\n",
       "    </tr>\n",
       "    <tr>\n",
       "      <th>449</th>\n",
       "      <td>1</td>\n",
       "    </tr>\n",
       "  </tbody>\n",
       "</table>\n",
       "<p>100 rows × 1 columns</p>\n",
       "</div>"
      ],
      "text/plain": [
       "      ClosePrice\n",
       "Date            \n",
       "350            1\n",
       "351            1\n",
       "352            1\n",
       "353            1\n",
       "354            1\n",
       "...          ...\n",
       "445            1\n",
       "446            1\n",
       "447            1\n",
       "448            1\n",
       "449            1\n",
       "\n",
       "[100 rows x 1 columns]"
      ]
     },
     "execution_count": 24,
     "metadata": {},
     "output_type": "execute_result"
    }
   ],
   "source": [
    "df.groupby(['Date']).count() #Grouping by the date"
   ]
  },
  {
   "cell_type": "code",
   "execution_count": 25,
   "id": "c4c8f02e-0625-4689-8152-7d34edbbbac0",
   "metadata": {},
   "outputs": [
    {
     "data": {
      "text/html": [
       "<div>\n",
       "<style scoped>\n",
       "    .dataframe tbody tr th:only-of-type {\n",
       "        vertical-align: middle;\n",
       "    }\n",
       "\n",
       "    .dataframe tbody tr th {\n",
       "        vertical-align: top;\n",
       "    }\n",
       "\n",
       "    .dataframe thead th {\n",
       "        text-align: right;\n",
       "    }\n",
       "</style>\n",
       "<table border=\"1\" class=\"dataframe\">\n",
       "  <thead>\n",
       "    <tr style=\"text-align: right;\">\n",
       "      <th></th>\n",
       "      <th>ClosePrice</th>\n",
       "    </tr>\n",
       "    <tr>\n",
       "      <th>Date</th>\n",
       "      <th></th>\n",
       "    </tr>\n",
       "  </thead>\n",
       "  <tbody>\n",
       "    <tr>\n",
       "      <th>350</th>\n",
       "      <td>1</td>\n",
       "    </tr>\n",
       "    <tr>\n",
       "      <th>351</th>\n",
       "      <td>1</td>\n",
       "    </tr>\n",
       "    <tr>\n",
       "      <th>352</th>\n",
       "      <td>1</td>\n",
       "    </tr>\n",
       "    <tr>\n",
       "      <th>353</th>\n",
       "      <td>1</td>\n",
       "    </tr>\n",
       "    <tr>\n",
       "      <th>354</th>\n",
       "      <td>1</td>\n",
       "    </tr>\n",
       "    <tr>\n",
       "      <th>...</th>\n",
       "      <td>...</td>\n",
       "    </tr>\n",
       "    <tr>\n",
       "      <th>445</th>\n",
       "      <td>1</td>\n",
       "    </tr>\n",
       "    <tr>\n",
       "      <th>446</th>\n",
       "      <td>1</td>\n",
       "    </tr>\n",
       "    <tr>\n",
       "      <th>447</th>\n",
       "      <td>1</td>\n",
       "    </tr>\n",
       "    <tr>\n",
       "      <th>448</th>\n",
       "      <td>1</td>\n",
       "    </tr>\n",
       "    <tr>\n",
       "      <th>449</th>\n",
       "      <td>1</td>\n",
       "    </tr>\n",
       "  </tbody>\n",
       "</table>\n",
       "<p>100 rows × 1 columns</p>\n",
       "</div>"
      ],
      "text/plain": [
       "      ClosePrice\n",
       "Date            \n",
       "350            1\n",
       "351            1\n",
       "352            1\n",
       "353            1\n",
       "354            1\n",
       "...          ...\n",
       "445            1\n",
       "446            1\n",
       "447            1\n",
       "448            1\n",
       "449            1\n",
       "\n",
       "[100 rows x 1 columns]"
      ]
     },
     "execution_count": 25,
     "metadata": {},
     "output_type": "execute_result"
    }
   ],
   "source": [
    "# Find the reading cost price for each day\n",
    "\n",
    "df_count = pd.DataFrame(df.groupby(['Date']).count()['ClosePrice'])\n",
    "\n",
    "df_count"
   ]
  },
  {
   "cell_type": "code",
   "execution_count": 27,
   "id": "c31606ae-370f-4584-9599-96c49cf3286b",
   "metadata": {},
   "outputs": [
    {
     "data": {
      "text/plain": [
       "array([[ 82.77533 ,  84.232269,  90.493225,  88.314651,  87.629974,\n",
       "         90.025925,  87.202881,  89.381012,  87.589455,  88.84581 ],\n",
       "       [ 89.601936,  95.050056,  91.262436,  94.308113, 100.443626,\n",
       "         98.690186,  99.970924,  98.614479,  96.458755,  96.062454],\n",
       "       [100.927666,  99.207619,  92.098465,  93.529282,  94.43055 ,\n",
       "         92.395737,  91.12175 ,  95.687576, 102.795303,  98.952202],\n",
       "       [100.309509,  99.791847,  97.564217,  95.940819,  93.70948 ,\n",
       "         95.218925,  94.691994,  91.555099,  93.263451,  95.255623],\n",
       "       [ 94.086678,  93.792778,  97.737663,  95.25724 ,  90.548973,\n",
       "         89.289536,  89.953346,  87.42292 ,  86.301903,  82.783531],\n",
       "       [ 76.731049,  71.762215,  69.706955,  76.311844,  81.768288,\n",
       "         84.35054 ,  76.428154,  79.053551,  85.502319,  82.983742],\n",
       "       [ 84.436096,  78.424553,  82.735352,  87.356888,  93.701004,\n",
       "         93.709908,  91.581146,  93.525192,  89.246872,  89.139374],\n",
       "       [ 91.341736,  89.059891,  89.684128,  92.875351,  93.015976,\n",
       "         93.037338,  92.600426,  92.622116,  90.929153,  90.638329],\n",
       "       [ 89.975197,  90.676674,  93.821228,  94.311798,  92.504158,\n",
       "         94.259499,  96.451973,  96.86821 , 100.267448,  98.674698],\n",
       "       [101.851418,  90.440681,  90.239655,  85.517342,  87.098526,\n",
       "         86.897324,  88.407341,  91.108345,  88.254189,  89.129784]])"
      ]
     },
     "execution_count": 27,
     "metadata": {},
     "output_type": "execute_result"
    }
   ],
   "source": [
    "# Re-organize the data set by day\n",
    "\n",
    "temp = np.array(df['ClosePrice']).reshape(10,10)\n",
    "\n",
    "temp"
   ]
  },
  {
   "cell_type": "code",
   "execution_count": 28,
   "id": "cb9df128-568f-48bd-867c-58549d82e497",
   "metadata": {},
   "outputs": [
    {
     "data": {
      "text/html": [
       "<div>\n",
       "<style scoped>\n",
       "    .dataframe tbody tr th:only-of-type {\n",
       "        vertical-align: middle;\n",
       "    }\n",
       "\n",
       "    .dataframe tbody tr th {\n",
       "        vertical-align: top;\n",
       "    }\n",
       "\n",
       "    .dataframe thead th {\n",
       "        text-align: right;\n",
       "    }\n",
       "</style>\n",
       "<table border=\"1\" class=\"dataframe\">\n",
       "  <thead>\n",
       "    <tr style=\"text-align: right;\">\n",
       "      <th></th>\n",
       "      <th>0</th>\n",
       "      <th>1</th>\n",
       "      <th>2</th>\n",
       "      <th>3</th>\n",
       "      <th>4</th>\n",
       "      <th>5</th>\n",
       "      <th>6</th>\n",
       "      <th>7</th>\n",
       "      <th>8</th>\n",
       "      <th>9</th>\n",
       "    </tr>\n",
       "  </thead>\n",
       "  <tbody>\n",
       "    <tr>\n",
       "      <th>0</th>\n",
       "      <td>82.775330</td>\n",
       "      <td>84.232269</td>\n",
       "      <td>90.493225</td>\n",
       "      <td>88.314651</td>\n",
       "      <td>87.629974</td>\n",
       "      <td>90.025925</td>\n",
       "      <td>87.202881</td>\n",
       "      <td>89.381012</td>\n",
       "      <td>87.589455</td>\n",
       "      <td>88.845810</td>\n",
       "    </tr>\n",
       "    <tr>\n",
       "      <th>1</th>\n",
       "      <td>89.601936</td>\n",
       "      <td>95.050056</td>\n",
       "      <td>91.262436</td>\n",
       "      <td>94.308113</td>\n",
       "      <td>100.443626</td>\n",
       "      <td>98.690186</td>\n",
       "      <td>99.970924</td>\n",
       "      <td>98.614479</td>\n",
       "      <td>96.458755</td>\n",
       "      <td>96.062454</td>\n",
       "    </tr>\n",
       "    <tr>\n",
       "      <th>2</th>\n",
       "      <td>100.927666</td>\n",
       "      <td>99.207619</td>\n",
       "      <td>92.098465</td>\n",
       "      <td>93.529282</td>\n",
       "      <td>94.430550</td>\n",
       "      <td>92.395737</td>\n",
       "      <td>91.121750</td>\n",
       "      <td>95.687576</td>\n",
       "      <td>102.795303</td>\n",
       "      <td>98.952202</td>\n",
       "    </tr>\n",
       "    <tr>\n",
       "      <th>3</th>\n",
       "      <td>100.309509</td>\n",
       "      <td>99.791847</td>\n",
       "      <td>97.564217</td>\n",
       "      <td>95.940819</td>\n",
       "      <td>93.709480</td>\n",
       "      <td>95.218925</td>\n",
       "      <td>94.691994</td>\n",
       "      <td>91.555099</td>\n",
       "      <td>93.263451</td>\n",
       "      <td>95.255623</td>\n",
       "    </tr>\n",
       "    <tr>\n",
       "      <th>4</th>\n",
       "      <td>94.086678</td>\n",
       "      <td>93.792778</td>\n",
       "      <td>97.737663</td>\n",
       "      <td>95.257240</td>\n",
       "      <td>90.548973</td>\n",
       "      <td>89.289536</td>\n",
       "      <td>89.953346</td>\n",
       "      <td>87.422920</td>\n",
       "      <td>86.301903</td>\n",
       "      <td>82.783531</td>\n",
       "    </tr>\n",
       "    <tr>\n",
       "      <th>5</th>\n",
       "      <td>76.731049</td>\n",
       "      <td>71.762215</td>\n",
       "      <td>69.706955</td>\n",
       "      <td>76.311844</td>\n",
       "      <td>81.768288</td>\n",
       "      <td>84.350540</td>\n",
       "      <td>76.428154</td>\n",
       "      <td>79.053551</td>\n",
       "      <td>85.502319</td>\n",
       "      <td>82.983742</td>\n",
       "    </tr>\n",
       "    <tr>\n",
       "      <th>6</th>\n",
       "      <td>84.436096</td>\n",
       "      <td>78.424553</td>\n",
       "      <td>82.735352</td>\n",
       "      <td>87.356888</td>\n",
       "      <td>93.701004</td>\n",
       "      <td>93.709908</td>\n",
       "      <td>91.581146</td>\n",
       "      <td>93.525192</td>\n",
       "      <td>89.246872</td>\n",
       "      <td>89.139374</td>\n",
       "    </tr>\n",
       "    <tr>\n",
       "      <th>7</th>\n",
       "      <td>91.341736</td>\n",
       "      <td>89.059891</td>\n",
       "      <td>89.684128</td>\n",
       "      <td>92.875351</td>\n",
       "      <td>93.015976</td>\n",
       "      <td>93.037338</td>\n",
       "      <td>92.600426</td>\n",
       "      <td>92.622116</td>\n",
       "      <td>90.929153</td>\n",
       "      <td>90.638329</td>\n",
       "    </tr>\n",
       "    <tr>\n",
       "      <th>8</th>\n",
       "      <td>89.975197</td>\n",
       "      <td>90.676674</td>\n",
       "      <td>93.821228</td>\n",
       "      <td>94.311798</td>\n",
       "      <td>92.504158</td>\n",
       "      <td>94.259499</td>\n",
       "      <td>96.451973</td>\n",
       "      <td>96.868210</td>\n",
       "      <td>100.267448</td>\n",
       "      <td>98.674698</td>\n",
       "    </tr>\n",
       "    <tr>\n",
       "      <th>9</th>\n",
       "      <td>101.851418</td>\n",
       "      <td>90.440681</td>\n",
       "      <td>90.239655</td>\n",
       "      <td>85.517342</td>\n",
       "      <td>87.098526</td>\n",
       "      <td>86.897324</td>\n",
       "      <td>88.407341</td>\n",
       "      <td>91.108345</td>\n",
       "      <td>88.254189</td>\n",
       "      <td>89.129784</td>\n",
       "    </tr>\n",
       "  </tbody>\n",
       "</table>\n",
       "</div>"
      ],
      "text/plain": [
       "            0          1          2          3           4          5  \\\n",
       "0   82.775330  84.232269  90.493225  88.314651   87.629974  90.025925   \n",
       "1   89.601936  95.050056  91.262436  94.308113  100.443626  98.690186   \n",
       "2  100.927666  99.207619  92.098465  93.529282   94.430550  92.395737   \n",
       "3  100.309509  99.791847  97.564217  95.940819   93.709480  95.218925   \n",
       "4   94.086678  93.792778  97.737663  95.257240   90.548973  89.289536   \n",
       "5   76.731049  71.762215  69.706955  76.311844   81.768288  84.350540   \n",
       "6   84.436096  78.424553  82.735352  87.356888   93.701004  93.709908   \n",
       "7   91.341736  89.059891  89.684128  92.875351   93.015976  93.037338   \n",
       "8   89.975197  90.676674  93.821228  94.311798   92.504158  94.259499   \n",
       "9  101.851418  90.440681  90.239655  85.517342   87.098526  86.897324   \n",
       "\n",
       "           6          7           8          9  \n",
       "0  87.202881  89.381012   87.589455  88.845810  \n",
       "1  99.970924  98.614479   96.458755  96.062454  \n",
       "2  91.121750  95.687576  102.795303  98.952202  \n",
       "3  94.691994  91.555099   93.263451  95.255623  \n",
       "4  89.953346  87.422920   86.301903  82.783531  \n",
       "5  76.428154  79.053551   85.502319  82.983742  \n",
       "6  91.581146  93.525192   89.246872  89.139374  \n",
       "7  92.600426  92.622116   90.929153  90.638329  \n",
       "8  96.451973  96.868210  100.267448  98.674698  \n",
       "9  88.407341  91.108345   88.254189  89.129784  "
      ]
     },
     "execution_count": 28,
     "metadata": {},
     "output_type": "execute_result"
    }
   ],
   "source": [
    "# Convert to dataframe\n",
    "\n",
    "conv_df = pd.DataFrame(temp, columns=np.arange(0,10,1))\n",
    "\n",
    "conv_df"
   ]
  },
  {
   "cell_type": "markdown",
   "id": "c4ba85bd-94cc-42c2-b365-e2bad0bbd9a0",
   "metadata": {},
   "source": [
    "# Reshape for Standardizing Data"
   ]
  },
  {
   "cell_type": "code",
   "execution_count": 29,
   "id": "79647f8d-776f-4cef-b6d9-3f90fd7bf3c4",
   "metadata": {},
   "outputs": [
    {
     "data": {
      "text/plain": [
       "100"
      ]
     },
     "execution_count": 29,
     "metadata": {},
     "output_type": "execute_result"
    }
   ],
   "source": [
    "row_count = df.shape[0] # store the number of obersvations (daily stock price readings)\n",
    "row_count"
   ]
  },
  {
   "cell_type": "code",
   "execution_count": 30,
   "id": "0fdedef2-c91d-49d7-ab83-78bbb8e5c961",
   "metadata": {},
   "outputs": [
    {
     "data": {
      "text/plain": [
       "(100, 1)"
      ]
     },
     "execution_count": 30,
     "metadata": {},
     "output_type": "execute_result"
    }
   ],
   "source": [
    "# Let's create a single sequence (i.e., feature) for standardization\n",
    "\n",
    "temp_1feature = np.array(conv_df).ravel().reshape(-1,1)\n",
    "\n",
    "temp_1feature.shape"
   ]
  },
  {
   "cell_type": "code",
   "execution_count": 31,
   "id": "35486bc4-2794-4d57-aae3-3ae6c26d5e0a",
   "metadata": {},
   "outputs": [
    {
     "data": {
      "text/plain": [
       "array([[ 82.77533 ],\n",
       "       [ 84.232269],\n",
       "       [ 90.493225],\n",
       "       [ 88.314651],\n",
       "       [ 87.629974],\n",
       "       [ 90.025925],\n",
       "       [ 87.202881],\n",
       "       [ 89.381012],\n",
       "       [ 87.589455],\n",
       "       [ 88.84581 ],\n",
       "       [ 89.601936],\n",
       "       [ 95.050056],\n",
       "       [ 91.262436],\n",
       "       [ 94.308113],\n",
       "       [100.443626],\n",
       "       [ 98.690186],\n",
       "       [ 99.970924],\n",
       "       [ 98.614479],\n",
       "       [ 96.458755],\n",
       "       [ 96.062454],\n",
       "       [100.927666],\n",
       "       [ 99.207619],\n",
       "       [ 92.098465],\n",
       "       [ 93.529282],\n",
       "       [ 94.43055 ],\n",
       "       [ 92.395737],\n",
       "       [ 91.12175 ],\n",
       "       [ 95.687576],\n",
       "       [102.795303],\n",
       "       [ 98.952202],\n",
       "       [100.309509],\n",
       "       [ 99.791847],\n",
       "       [ 97.564217],\n",
       "       [ 95.940819],\n",
       "       [ 93.70948 ],\n",
       "       [ 95.218925],\n",
       "       [ 94.691994],\n",
       "       [ 91.555099],\n",
       "       [ 93.263451],\n",
       "       [ 95.255623],\n",
       "       [ 94.086678],\n",
       "       [ 93.792778],\n",
       "       [ 97.737663],\n",
       "       [ 95.25724 ],\n",
       "       [ 90.548973],\n",
       "       [ 89.289536],\n",
       "       [ 89.953346],\n",
       "       [ 87.42292 ],\n",
       "       [ 86.301903],\n",
       "       [ 82.783531],\n",
       "       [ 76.731049],\n",
       "       [ 71.762215],\n",
       "       [ 69.706955],\n",
       "       [ 76.311844],\n",
       "       [ 81.768288],\n",
       "       [ 84.35054 ],\n",
       "       [ 76.428154],\n",
       "       [ 79.053551],\n",
       "       [ 85.502319],\n",
       "       [ 82.983742],\n",
       "       [ 84.436096],\n",
       "       [ 78.424553],\n",
       "       [ 82.735352],\n",
       "       [ 87.356888],\n",
       "       [ 93.701004],\n",
       "       [ 93.709908],\n",
       "       [ 91.581146],\n",
       "       [ 93.525192],\n",
       "       [ 89.246872],\n",
       "       [ 89.139374],\n",
       "       [ 91.341736],\n",
       "       [ 89.059891],\n",
       "       [ 89.684128],\n",
       "       [ 92.875351],\n",
       "       [ 93.015976],\n",
       "       [ 93.037338],\n",
       "       [ 92.600426],\n",
       "       [ 92.622116],\n",
       "       [ 90.929153],\n",
       "       [ 90.638329],\n",
       "       [ 89.975197],\n",
       "       [ 90.676674],\n",
       "       [ 93.821228],\n",
       "       [ 94.311798],\n",
       "       [ 92.504158],\n",
       "       [ 94.259499],\n",
       "       [ 96.451973],\n",
       "       [ 96.86821 ],\n",
       "       [100.267448],\n",
       "       [ 98.674698],\n",
       "       [101.851418],\n",
       "       [ 90.440681],\n",
       "       [ 90.239655],\n",
       "       [ 85.517342],\n",
       "       [ 87.098526],\n",
       "       [ 86.897324],\n",
       "       [ 88.407341],\n",
       "       [ 91.108345],\n",
       "       [ 88.254189],\n",
       "       [ 89.129784]])"
      ]
     },
     "execution_count": 31,
     "metadata": {},
     "output_type": "execute_result"
    }
   ],
   "source": [
    "temp_1feature"
   ]
  },
  {
   "cell_type": "markdown",
   "id": "69b638b4-7ab0-4c4b-811d-9ee6465fff05",
   "metadata": {},
   "source": [
    "## Standardize the values"
   ]
  },
  {
   "cell_type": "code",
   "execution_count": 32,
   "id": "b3ca54f1-cd39-4a30-a207-4158d25f3b8c",
   "metadata": {},
   "outputs": [],
   "source": [
    "# Next, standardize\n",
    "\n",
    "from sklearn.preprocessing import StandardScaler\n",
    "\n",
    "scaler = StandardScaler()\n",
    "\n",
    "temp_std = scaler.fit_transform(temp_1feature)"
   ]
  },
  {
   "cell_type": "markdown",
   "id": "d6d5ccc8-7a60-4712-a978-1194ffe7a6bd",
   "metadata": {},
   "source": [
    "## Reshape the data back to 10 day format"
   ]
  },
  {
   "cell_type": "code",
   "execution_count": 33,
   "id": "18af421f-9fc6-4fd7-9c5b-f11b91b91fea",
   "metadata": {},
   "outputs": [
    {
     "data": {
      "text/plain": [
       "(10, 10)"
      ]
     },
     "execution_count": 33,
     "metadata": {},
     "output_type": "execute_result"
    }
   ],
   "source": [
    "temp_reshaped = temp_std.reshape(10,10)\n",
    "\n",
    "temp_reshaped.shape"
   ]
  },
  {
   "cell_type": "code",
   "execution_count": 34,
   "id": "43bb1fac-4893-4b3a-8cf7-2f1fc9e639cf",
   "metadata": {},
   "outputs": [
    {
     "data": {
      "text/html": [
       "<div>\n",
       "<style scoped>\n",
       "    .dataframe tbody tr th:only-of-type {\n",
       "        vertical-align: middle;\n",
       "    }\n",
       "\n",
       "    .dataframe tbody tr th {\n",
       "        vertical-align: top;\n",
       "    }\n",
       "\n",
       "    .dataframe thead th {\n",
       "        text-align: right;\n",
       "    }\n",
       "</style>\n",
       "<table border=\"1\" class=\"dataframe\">\n",
       "  <thead>\n",
       "    <tr style=\"text-align: right;\">\n",
       "      <th></th>\n",
       "      <th>0</th>\n",
       "      <th>1</th>\n",
       "      <th>2</th>\n",
       "      <th>3</th>\n",
       "      <th>4</th>\n",
       "      <th>5</th>\n",
       "      <th>6</th>\n",
       "      <th>7</th>\n",
       "      <th>8</th>\n",
       "      <th>9</th>\n",
       "    </tr>\n",
       "  </thead>\n",
       "  <tbody>\n",
       "    <tr>\n",
       "      <th>0</th>\n",
       "      <td>-1.286104</td>\n",
       "      <td>-1.056490</td>\n",
       "      <td>-0.069766</td>\n",
       "      <td>-0.413108</td>\n",
       "      <td>-0.521013</td>\n",
       "      <td>-0.143412</td>\n",
       "      <td>-0.588323</td>\n",
       "      <td>-0.245050</td>\n",
       "      <td>-0.527399</td>\n",
       "      <td>-0.329398</td>\n",
       "    </tr>\n",
       "    <tr>\n",
       "      <th>1</th>\n",
       "      <td>-0.210233</td>\n",
       "      <td>0.648389</td>\n",
       "      <td>0.051462</td>\n",
       "      <td>0.531459</td>\n",
       "      <td>1.498414</td>\n",
       "      <td>1.222073</td>\n",
       "      <td>1.423917</td>\n",
       "      <td>1.210141</td>\n",
       "      <td>0.870400</td>\n",
       "      <td>0.807943</td>\n",
       "    </tr>\n",
       "    <tr>\n",
       "      <th>2</th>\n",
       "      <td>1.574699</td>\n",
       "      <td>1.303620</td>\n",
       "      <td>0.183220</td>\n",
       "      <td>0.408716</td>\n",
       "      <td>0.550756</td>\n",
       "      <td>0.230070</td>\n",
       "      <td>0.029290</td>\n",
       "      <td>0.748862</td>\n",
       "      <td>1.869038</td>\n",
       "      <td>1.263366</td>\n",
       "    </tr>\n",
       "    <tr>\n",
       "      <th>3</th>\n",
       "      <td>1.477278</td>\n",
       "      <td>1.395694</td>\n",
       "      <td>1.044620</td>\n",
       "      <td>0.788773</td>\n",
       "      <td>0.437115</td>\n",
       "      <td>0.675003</td>\n",
       "      <td>0.591959</td>\n",
       "      <td>0.097585</td>\n",
       "      <td>0.366821</td>\n",
       "      <td>0.680787</td>\n",
       "    </tr>\n",
       "    <tr>\n",
       "      <th>4</th>\n",
       "      <td>0.496561</td>\n",
       "      <td>0.450243</td>\n",
       "      <td>1.071956</td>\n",
       "      <td>0.681042</td>\n",
       "      <td>-0.060980</td>\n",
       "      <td>-0.259467</td>\n",
       "      <td>-0.154850</td>\n",
       "      <td>-0.553645</td>\n",
       "      <td>-0.730317</td>\n",
       "      <td>-1.284811</td>\n",
       "    </tr>\n",
       "    <tr>\n",
       "      <th>5</th>\n",
       "      <td>-2.238680</td>\n",
       "      <td>-3.021767</td>\n",
       "      <td>-3.345675</td>\n",
       "      <td>-2.304747</td>\n",
       "      <td>-1.444813</td>\n",
       "      <td>-1.037851</td>\n",
       "      <td>-2.286417</td>\n",
       "      <td>-1.872655</td>\n",
       "      <td>-0.856331</td>\n",
       "      <td>-1.253258</td>\n",
       "    </tr>\n",
       "    <tr>\n",
       "      <th>6</th>\n",
       "      <td>-1.024367</td>\n",
       "      <td>-1.971785</td>\n",
       "      <td>-1.292404</td>\n",
       "      <td>-0.564051</td>\n",
       "      <td>0.435779</td>\n",
       "      <td>0.437183</td>\n",
       "      <td>0.101690</td>\n",
       "      <td>0.408071</td>\n",
       "      <td>-0.266191</td>\n",
       "      <td>-0.283132</td>\n",
       "    </tr>\n",
       "    <tr>\n",
       "      <th>7</th>\n",
       "      <td>0.063959</td>\n",
       "      <td>-0.295659</td>\n",
       "      <td>-0.197279</td>\n",
       "      <td>0.305657</td>\n",
       "      <td>0.327819</td>\n",
       "      <td>0.331186</td>\n",
       "      <td>0.262329</td>\n",
       "      <td>0.265747</td>\n",
       "      <td>-0.001064</td>\n",
       "      <td>-0.046897</td>\n",
       "    </tr>\n",
       "    <tr>\n",
       "      <th>8</th>\n",
       "      <td>-0.151407</td>\n",
       "      <td>-0.040854</td>\n",
       "      <td>0.454727</td>\n",
       "      <td>0.532040</td>\n",
       "      <td>0.247157</td>\n",
       "      <td>0.523798</td>\n",
       "      <td>0.869331</td>\n",
       "      <td>0.934930</td>\n",
       "      <td>1.470649</td>\n",
       "      <td>1.219632</td>\n",
       "    </tr>\n",
       "    <tr>\n",
       "      <th>9</th>\n",
       "      <td>1.720282</td>\n",
       "      <td>-0.078047</td>\n",
       "      <td>-0.109728</td>\n",
       "      <td>-0.853963</td>\n",
       "      <td>-0.604769</td>\n",
       "      <td>-0.636479</td>\n",
       "      <td>-0.398500</td>\n",
       "      <td>0.027177</td>\n",
       "      <td>-0.422637</td>\n",
       "      <td>-0.284644</td>\n",
       "    </tr>\n",
       "  </tbody>\n",
       "</table>\n",
       "</div>"
      ],
      "text/plain": [
       "          0         1         2         3         4         5         6  \\\n",
       "0 -1.286104 -1.056490 -0.069766 -0.413108 -0.521013 -0.143412 -0.588323   \n",
       "1 -0.210233  0.648389  0.051462  0.531459  1.498414  1.222073  1.423917   \n",
       "2  1.574699  1.303620  0.183220  0.408716  0.550756  0.230070  0.029290   \n",
       "3  1.477278  1.395694  1.044620  0.788773  0.437115  0.675003  0.591959   \n",
       "4  0.496561  0.450243  1.071956  0.681042 -0.060980 -0.259467 -0.154850   \n",
       "5 -2.238680 -3.021767 -3.345675 -2.304747 -1.444813 -1.037851 -2.286417   \n",
       "6 -1.024367 -1.971785 -1.292404 -0.564051  0.435779  0.437183  0.101690   \n",
       "7  0.063959 -0.295659 -0.197279  0.305657  0.327819  0.331186  0.262329   \n",
       "8 -0.151407 -0.040854  0.454727  0.532040  0.247157  0.523798  0.869331   \n",
       "9  1.720282 -0.078047 -0.109728 -0.853963 -0.604769 -0.636479 -0.398500   \n",
       "\n",
       "          7         8         9  \n",
       "0 -0.245050 -0.527399 -0.329398  \n",
       "1  1.210141  0.870400  0.807943  \n",
       "2  0.748862  1.869038  1.263366  \n",
       "3  0.097585  0.366821  0.680787  \n",
       "4 -0.553645 -0.730317 -1.284811  \n",
       "5 -1.872655 -0.856331 -1.253258  \n",
       "6  0.408071 -0.266191 -0.283132  \n",
       "7  0.265747 -0.001064 -0.046897  \n",
       "8  0.934930  1.470649  1.219632  \n",
       "9  0.027177 -0.422637 -0.284644  "
      ]
     },
     "execution_count": 34,
     "metadata": {},
     "output_type": "execute_result"
    }
   ],
   "source": [
    "# Pandas version of the reshaped data\n",
    "\n",
    "pd.DataFrame(temp_reshaped, columns=np.arange(0,10,1))"
   ]
  },
  {
   "cell_type": "markdown",
   "id": "8fc5ceba-6130-4336-8165-86d1b4e5fb0a",
   "metadata": {},
   "source": [
    "# Split the Data\n",
    "\n",
    "**In certain cases, we cannot use a random split. For example, if we are trying to predict the stock market, we cannot use a random split. We need to use a chronological split.**\n",
    "\n",
    "BUT, keep in mind if we have something like hourly readings of dayly temperature, we can use a random split on days, but the sequence of the temperature within the day is important to remain sequential.\n",
    "\n",
    "In this case, we are using a random spli because each day as an independent sample."
   ]
  },
  {
   "cell_type": "code",
   "execution_count": 35,
   "id": "6af7c59f-cba3-4869-b600-ee67bc9c9466",
   "metadata": {},
   "outputs": [],
   "source": [
    "from sklearn.model_selection import train_test_split\n",
    "\n",
    "train, test = train_test_split(temp_reshaped, test_size=0.3)\n",
    "\n",
    "# if we neede to maintain the ordering of the data, we can use the following code to split the data\n",
    "#split_point = int(len(temp_reshaped)*0.7)\n",
    "#train, test = temp_reshaped[:split_point], temp_reshaped[split_point:]"
   ]
  },
  {
   "cell_type": "code",
   "execution_count": 36,
   "id": "82630c34-cc6a-46c3-a69e-74e3be788e86",
   "metadata": {},
   "outputs": [
    {
     "data": {
      "text/plain": [
       "(7, 10)"
      ]
     },
     "execution_count": 36,
     "metadata": {},
     "output_type": "execute_result"
    }
   ],
   "source": [
    "train.shape"
   ]
  },
  {
   "cell_type": "code",
   "execution_count": 37,
   "id": "44e0f30e-51fe-4c28-a8c5-eec34dc26490",
   "metadata": {},
   "outputs": [
    {
     "data": {
      "text/plain": [
       "array([[-1.28610355e+00, -1.05649041e+00, -6.97656843e-02,\n",
       "        -4.13108273e-01, -5.21013157e-01, -1.43412020e-01,\n",
       "        -5.88322882e-01, -2.45050109e-01, -5.27398939e-01,\n",
       "        -3.29397779e-01],\n",
       "       [ 6.39593870e-02, -2.95658680e-01, -1.97279121e-01,\n",
       "         3.05656637e-01,  3.27819094e-01,  3.31185738e-01,\n",
       "         2.62328542e-01,  2.65746879e-01, -1.06356624e-03,\n",
       "        -4.68973387e-02]])"
      ]
     },
     "execution_count": 37,
     "metadata": {},
     "output_type": "execute_result"
    }
   ],
   "source": [
    "train[:2]"
   ]
  },
  {
   "cell_type": "code",
   "execution_count": 38,
   "id": "0935a332-0f16-4e14-80f4-522a467831d3",
   "metadata": {},
   "outputs": [
    {
     "data": {
      "text/plain": [
       "(3, 10)"
      ]
     },
     "execution_count": 38,
     "metadata": {},
     "output_type": "execute_result"
    }
   ],
   "source": [
    "test.shape"
   ]
  },
  {
   "cell_type": "code",
   "execution_count": 39,
   "id": "6132f8cc-e67f-4f2b-bbdd-0a94deb3a385",
   "metadata": {},
   "outputs": [
    {
     "data": {
      "text/plain": [
       "array([[-0.15140674, -0.04085418,  0.45472656,  0.53204024,  0.24715673,\n",
       "         0.52379793,  0.86933116,  0.93492998,  1.47064884,  1.21963193],\n",
       "       [-0.21023256,  0.64838947,  0.05146173,  0.53145949,  1.49841444,\n",
       "         1.22207284,  1.42391675,  1.21014144,  0.8704    ,  0.80794308]])"
      ]
     },
     "execution_count": 39,
     "metadata": {},
     "output_type": "execute_result"
    }
   ],
   "source": [
    "test[:2]"
   ]
  },
  {
   "cell_type": "markdown",
   "id": "b485c84d-7452-4ac8-9744-ce3d1847fc4c",
   "metadata": {},
   "source": [
    "# Create Input and Target values\n",
    "\n",
    "The first 9 days will be input to predict the 10th day reading (i.e., target)"
   ]
  },
  {
   "cell_type": "code",
   "execution_count": 40,
   "id": "e31fa7b7-e3d4-44e5-91ec-f28632de1179",
   "metadata": {},
   "outputs": [
    {
     "data": {
      "text/html": [
       "<div>\n",
       "<style scoped>\n",
       "    .dataframe tbody tr th:only-of-type {\n",
       "        vertical-align: middle;\n",
       "    }\n",
       "\n",
       "    .dataframe tbody tr th {\n",
       "        vertical-align: top;\n",
       "    }\n",
       "\n",
       "    .dataframe thead th {\n",
       "        text-align: right;\n",
       "    }\n",
       "</style>\n",
       "<table border=\"1\" class=\"dataframe\">\n",
       "  <thead>\n",
       "    <tr style=\"text-align: right;\">\n",
       "      <th></th>\n",
       "      <th>0</th>\n",
       "      <th>1</th>\n",
       "      <th>2</th>\n",
       "      <th>3</th>\n",
       "      <th>4</th>\n",
       "      <th>5</th>\n",
       "      <th>6</th>\n",
       "      <th>7</th>\n",
       "      <th>8</th>\n",
       "    </tr>\n",
       "  </thead>\n",
       "  <tbody>\n",
       "    <tr>\n",
       "      <th>0</th>\n",
       "      <td>-1.286104</td>\n",
       "      <td>-1.056490</td>\n",
       "      <td>-0.069766</td>\n",
       "      <td>-0.413108</td>\n",
       "      <td>-0.521013</td>\n",
       "      <td>-0.143412</td>\n",
       "      <td>-0.588323</td>\n",
       "      <td>-0.245050</td>\n",
       "      <td>-0.527399</td>\n",
       "    </tr>\n",
       "    <tr>\n",
       "      <th>1</th>\n",
       "      <td>0.063959</td>\n",
       "      <td>-0.295659</td>\n",
       "      <td>-0.197279</td>\n",
       "      <td>0.305657</td>\n",
       "      <td>0.327819</td>\n",
       "      <td>0.331186</td>\n",
       "      <td>0.262329</td>\n",
       "      <td>0.265747</td>\n",
       "      <td>-0.001064</td>\n",
       "    </tr>\n",
       "    <tr>\n",
       "      <th>2</th>\n",
       "      <td>1.574699</td>\n",
       "      <td>1.303620</td>\n",
       "      <td>0.183220</td>\n",
       "      <td>0.408716</td>\n",
       "      <td>0.550756</td>\n",
       "      <td>0.230070</td>\n",
       "      <td>0.029290</td>\n",
       "      <td>0.748862</td>\n",
       "      <td>1.869038</td>\n",
       "    </tr>\n",
       "    <tr>\n",
       "      <th>3</th>\n",
       "      <td>1.720282</td>\n",
       "      <td>-0.078047</td>\n",
       "      <td>-0.109728</td>\n",
       "      <td>-0.853963</td>\n",
       "      <td>-0.604769</td>\n",
       "      <td>-0.636479</td>\n",
       "      <td>-0.398500</td>\n",
       "      <td>0.027177</td>\n",
       "      <td>-0.422637</td>\n",
       "    </tr>\n",
       "    <tr>\n",
       "      <th>4</th>\n",
       "      <td>0.496561</td>\n",
       "      <td>0.450243</td>\n",
       "      <td>1.071956</td>\n",
       "      <td>0.681042</td>\n",
       "      <td>-0.060980</td>\n",
       "      <td>-0.259467</td>\n",
       "      <td>-0.154850</td>\n",
       "      <td>-0.553645</td>\n",
       "      <td>-0.730317</td>\n",
       "    </tr>\n",
       "    <tr>\n",
       "      <th>5</th>\n",
       "      <td>1.477278</td>\n",
       "      <td>1.395694</td>\n",
       "      <td>1.044620</td>\n",
       "      <td>0.788773</td>\n",
       "      <td>0.437115</td>\n",
       "      <td>0.675003</td>\n",
       "      <td>0.591959</td>\n",
       "      <td>0.097585</td>\n",
       "      <td>0.366821</td>\n",
       "    </tr>\n",
       "    <tr>\n",
       "      <th>6</th>\n",
       "      <td>-1.024367</td>\n",
       "      <td>-1.971785</td>\n",
       "      <td>-1.292404</td>\n",
       "      <td>-0.564051</td>\n",
       "      <td>0.435779</td>\n",
       "      <td>0.437183</td>\n",
       "      <td>0.101690</td>\n",
       "      <td>0.408071</td>\n",
       "      <td>-0.266191</td>\n",
       "    </tr>\n",
       "  </tbody>\n",
       "</table>\n",
       "</div>"
      ],
      "text/plain": [
       "          0         1         2         3         4         5         6  \\\n",
       "0 -1.286104 -1.056490 -0.069766 -0.413108 -0.521013 -0.143412 -0.588323   \n",
       "1  0.063959 -0.295659 -0.197279  0.305657  0.327819  0.331186  0.262329   \n",
       "2  1.574699  1.303620  0.183220  0.408716  0.550756  0.230070  0.029290   \n",
       "3  1.720282 -0.078047 -0.109728 -0.853963 -0.604769 -0.636479 -0.398500   \n",
       "4  0.496561  0.450243  1.071956  0.681042 -0.060980 -0.259467 -0.154850   \n",
       "5  1.477278  1.395694  1.044620  0.788773  0.437115  0.675003  0.591959   \n",
       "6 -1.024367 -1.971785 -1.292404 -0.564051  0.435779  0.437183  0.101690   \n",
       "\n",
       "          7         8  \n",
       "0 -0.245050 -0.527399  \n",
       "1  0.265747 -0.001064  \n",
       "2  0.748862  1.869038  \n",
       "3  0.027177 -0.422637  \n",
       "4 -0.553645 -0.730317  \n",
       "5  0.097585  0.366821  \n",
       "6  0.408071 -0.266191  "
      ]
     },
     "execution_count": 40,
     "metadata": {},
     "output_type": "execute_result"
    }
   ],
   "source": [
    "# The first 9 columns (from 0 to 8) are inputs\n",
    "\n",
    "train_inputs = train[:,:9]\n",
    "\n",
    "\n",
    "pd.DataFrame(train_inputs, columns=np.arange(0,9,1))"
   ]
  },
  {
   "cell_type": "markdown",
   "id": "7e58317c-2d5b-40c3-8782-af961956ca40",
   "metadata": {},
   "source": [
    "## Add one more dimension to make it ready for RNNs"
   ]
  },
  {
   "cell_type": "code",
   "execution_count": 41,
   "id": "2abf800f-568c-427b-ac06-3e8a037701d0",
   "metadata": {},
   "outputs": [
    {
     "data": {
      "text/plain": [
       "array([[-1.28610355e+00, -1.05649041e+00, -6.97656843e-02,\n",
       "        -4.13108273e-01, -5.21013157e-01, -1.43412020e-01,\n",
       "        -5.88322882e-01, -2.45050109e-01, -5.27398939e-01],\n",
       "       [ 6.39593870e-02, -2.95658680e-01, -1.97279121e-01,\n",
       "         3.05656637e-01,  3.27819094e-01,  3.31185738e-01,\n",
       "         2.62328542e-01,  2.65746879e-01, -1.06356624e-03],\n",
       "       [ 1.57469899e+00,  1.30362012e+00,  1.83219644e-01,\n",
       "         4.08715960e-01,  5.50755519e-01,  2.30069619e-01,\n",
       "         2.92896614e-02,  7.48862428e-01,  1.86903801e+00],\n",
       "       [ 1.72028202e+00, -7.80466025e-02, -1.09728238e-01,\n",
       "        -8.53963307e-01, -6.04769197e-01, -6.36478570e-01,\n",
       "        -3.98500358e-01,  2.71770376e-02, -4.22637066e-01],\n",
       "       [ 4.96561398e-01,  4.50242849e-01,  1.07195551e+00,\n",
       "         6.81041607e-01, -6.09798167e-02, -2.59466699e-01,\n",
       "        -1.54850448e-01, -5.53644803e-01, -7.30316736e-01],\n",
       "       [ 1.47727764e+00,  1.39569427e+00,  1.04462047e+00,\n",
       "         7.88773446e-01,  4.37115110e-01,  6.75003175e-01,\n",
       "         5.91959012e-01,  9.75853299e-02,  3.66821077e-01],\n",
       "       [-1.02436734e+00, -1.97178466e+00, -1.29240407e+00,\n",
       "        -5.64051426e-01,  4.35779295e-01,  4.37182562e-01,\n",
       "         1.01690329e-01,  4.08071378e-01, -2.66190532e-01]])"
      ]
     },
     "execution_count": 41,
     "metadata": {},
     "output_type": "execute_result"
    }
   ],
   "source": [
    "train_inputs"
   ]
  },
  {
   "cell_type": "code",
   "execution_count": 42,
   "id": "63c1630e-c0e8-42df-9729-3376a91b8c70",
   "metadata": {},
   "outputs": [
    {
     "data": {
      "text/plain": [
       "(7, 9, 1)"
      ]
     },
     "execution_count": 42,
     "metadata": {},
     "output_type": "execute_result"
    }
   ],
   "source": [
    "#Create an additional dimension for train\n",
    "\n",
    "train_x = train_inputs[:,:,np.newaxis]\n",
    "\n",
    "train_x.shape "
   ]
  },
  {
   "cell_type": "markdown",
   "id": "94705589-d094-48a3-ac5e-87a8c2249992",
   "metadata": {},
   "source": [
    "## Set the target"
   ]
  },
  {
   "cell_type": "code",
   "execution_count": 43,
   "id": "9170d5a1-7c63-49da-8c50-81855e4f5b59",
   "metadata": {},
   "outputs": [
    {
     "data": {
      "text/html": [
       "<div>\n",
       "<style scoped>\n",
       "    .dataframe tbody tr th:only-of-type {\n",
       "        vertical-align: middle;\n",
       "    }\n",
       "\n",
       "    .dataframe tbody tr th {\n",
       "        vertical-align: top;\n",
       "    }\n",
       "\n",
       "    .dataframe thead th {\n",
       "        text-align: right;\n",
       "    }\n",
       "</style>\n",
       "<table border=\"1\" class=\"dataframe\">\n",
       "  <thead>\n",
       "    <tr style=\"text-align: right;\">\n",
       "      <th></th>\n",
       "      <th>9</th>\n",
       "    </tr>\n",
       "  </thead>\n",
       "  <tbody>\n",
       "    <tr>\n",
       "      <th>0</th>\n",
       "      <td>-0.329398</td>\n",
       "    </tr>\n",
       "    <tr>\n",
       "      <th>1</th>\n",
       "      <td>-0.046897</td>\n",
       "    </tr>\n",
       "    <tr>\n",
       "      <th>2</th>\n",
       "      <td>1.263366</td>\n",
       "    </tr>\n",
       "    <tr>\n",
       "      <th>3</th>\n",
       "      <td>-0.284644</td>\n",
       "    </tr>\n",
       "    <tr>\n",
       "      <th>4</th>\n",
       "      <td>-1.284811</td>\n",
       "    </tr>\n",
       "    <tr>\n",
       "      <th>5</th>\n",
       "      <td>0.680787</td>\n",
       "    </tr>\n",
       "    <tr>\n",
       "      <th>6</th>\n",
       "      <td>-0.283132</td>\n",
       "    </tr>\n",
       "  </tbody>\n",
       "</table>\n",
       "</div>"
      ],
      "text/plain": [
       "          9\n",
       "0 -0.329398\n",
       "1 -0.046897\n",
       "2  1.263366\n",
       "3 -0.284644\n",
       "4 -1.284811\n",
       "5  0.680787\n",
       "6 -0.283132"
      ]
     },
     "execution_count": 43,
     "metadata": {},
     "output_type": "execute_result"
    }
   ],
   "source": [
    "# The last column (9) is TARGET\n",
    "\n",
    "train_target = train[:,-1]\n",
    "\n",
    "\n",
    "pd.DataFrame(train_target, columns=['9'])"
   ]
  },
  {
   "cell_type": "code",
   "execution_count": 44,
   "id": "768d2339-368d-4f32-9782-b42c2826937f",
   "metadata": {},
   "outputs": [
    {
     "data": {
      "text/plain": [
       "(3, 10)"
      ]
     },
     "execution_count": 44,
     "metadata": {},
     "output_type": "execute_result"
    }
   ],
   "source": [
    "test.shape"
   ]
  },
  {
   "cell_type": "code",
   "execution_count": 45,
   "id": "156bc21c-5df7-4b38-860c-f85ca1d228a9",
   "metadata": {},
   "outputs": [],
   "source": [
    "# The first 9 columns (from 0 to 8) are inputs\n",
    "\n",
    "test_inputs = test[:,:9]"
   ]
  },
  {
   "cell_type": "code",
   "execution_count": 46,
   "id": "7a09cf6c-b698-4ea8-84cb-f823786fa320",
   "metadata": {},
   "outputs": [
    {
     "data": {
      "text/plain": [
       "(3, 9, 1)"
      ]
     },
     "execution_count": 46,
     "metadata": {},
     "output_type": "execute_result"
    }
   ],
   "source": [
    "#Create an additional dimension for test\n",
    "\n",
    "test_x = test_inputs[:,:,np.newaxis]\n",
    "\n",
    "test_x.shape "
   ]
  },
  {
   "cell_type": "code",
   "execution_count": 47,
   "id": "18db7aef-af97-47a9-895f-a1413459e62f",
   "metadata": {},
   "outputs": [
    {
     "data": {
      "text/html": [
       "<div>\n",
       "<style scoped>\n",
       "    .dataframe tbody tr th:only-of-type {\n",
       "        vertical-align: middle;\n",
       "    }\n",
       "\n",
       "    .dataframe tbody tr th {\n",
       "        vertical-align: top;\n",
       "    }\n",
       "\n",
       "    .dataframe thead th {\n",
       "        text-align: right;\n",
       "    }\n",
       "</style>\n",
       "<table border=\"1\" class=\"dataframe\">\n",
       "  <thead>\n",
       "    <tr style=\"text-align: right;\">\n",
       "      <th></th>\n",
       "      <th>9</th>\n",
       "    </tr>\n",
       "  </thead>\n",
       "  <tbody>\n",
       "    <tr>\n",
       "      <th>0</th>\n",
       "      <td>1.219632</td>\n",
       "    </tr>\n",
       "    <tr>\n",
       "      <th>1</th>\n",
       "      <td>0.807943</td>\n",
       "    </tr>\n",
       "    <tr>\n",
       "      <th>2</th>\n",
       "      <td>-1.253258</td>\n",
       "    </tr>\n",
       "  </tbody>\n",
       "</table>\n",
       "</div>"
      ],
      "text/plain": [
       "          9\n",
       "0  1.219632\n",
       "1  0.807943\n",
       "2 -1.253258"
      ]
     },
     "execution_count": 47,
     "metadata": {},
     "output_type": "execute_result"
    }
   ],
   "source": [
    "# The last column (9) is TARGET\n",
    "\n",
    "test_target = test[:,-1]\n",
    "\n",
    "\n",
    "pd.DataFrame(test_target, columns=['9'])"
   ]
  },
  {
   "cell_type": "markdown",
   "id": "aadedf5c-9377-4db9-b1ed-c5fdb8fd0b80",
   "metadata": {},
   "source": [
    "# simple RNN"
   ]
  },
  {
   "cell_type": "code",
   "execution_count": 48,
   "id": "ba66d893-2bc6-4fd0-a3e4-8f56e0d1c123",
   "metadata": {},
   "outputs": [],
   "source": [
    "model = keras.models.Sequential([\n",
    "    keras.layers.SimpleRNN(32, activation='relu', input_shape=[9, 1]),\n",
    "    keras.layers.Dense(1, activation=None)\n",
    "])"
   ]
  },
  {
   "cell_type": "code",
   "execution_count": 49,
   "id": "1d315367-1d1d-4930-95c6-75fea2907226",
   "metadata": {},
   "outputs": [
    {
     "name": "stdout",
     "output_type": "stream",
     "text": [
      "Epoch 1/30\n",
      "1/1 [==============================] - 3s 3s/step - loss: 0.5503\n",
      "Epoch 2/30\n",
      "1/1 [==============================] - 0s 13ms/step - loss: 0.5322\n",
      "Epoch 3/30\n",
      "1/1 [==============================] - 0s 31ms/step - loss: 0.5150\n",
      "Epoch 4/30\n",
      "1/1 [==============================] - 0s 22ms/step - loss: 0.4987\n",
      "Epoch 5/30\n",
      "1/1 [==============================] - 0s 32ms/step - loss: 0.4828\n",
      "Epoch 6/30\n",
      "1/1 [==============================] - 0s 14ms/step - loss: 0.4673\n",
      "Epoch 7/30\n",
      "1/1 [==============================] - 0s 9ms/step - loss: 0.4521\n",
      "Epoch 8/30\n",
      "1/1 [==============================] - 0s 15ms/step - loss: 0.4374\n",
      "Epoch 9/30\n",
      "1/1 [==============================] - 0s 10ms/step - loss: 0.4231\n",
      "Epoch 10/30\n",
      "1/1 [==============================] - 0s 8ms/step - loss: 0.4109\n",
      "Epoch 11/30\n",
      "1/1 [==============================] - 0s 11ms/step - loss: 0.3988\n",
      "Epoch 12/30\n",
      "1/1 [==============================] - 0s 23ms/step - loss: 0.3867\n",
      "Epoch 13/30\n",
      "1/1 [==============================] - 0s 55ms/step - loss: 0.3752\n",
      "Epoch 14/30\n",
      "1/1 [==============================] - 0s 15ms/step - loss: 0.3637\n",
      "Epoch 15/30\n",
      "1/1 [==============================] - 0s 12ms/step - loss: 0.3523\n",
      "Epoch 16/30\n",
      "1/1 [==============================] - 0s 16ms/step - loss: 0.3411\n",
      "Epoch 17/30\n",
      "1/1 [==============================] - 0s 16ms/step - loss: 0.3302\n",
      "Epoch 18/30\n",
      "1/1 [==============================] - 0s 9ms/step - loss: 0.3196\n",
      "Epoch 19/30\n",
      "1/1 [==============================] - 0s 9ms/step - loss: 0.3087\n",
      "Epoch 20/30\n",
      "1/1 [==============================] - 0s 12ms/step - loss: 0.2979\n",
      "Epoch 21/30\n",
      "1/1 [==============================] - 0s 9ms/step - loss: 0.2872\n",
      "Epoch 22/30\n",
      "1/1 [==============================] - 0s 24ms/step - loss: 0.2767\n",
      "Epoch 23/30\n",
      "1/1 [==============================] - 0s 8ms/step - loss: 0.2665\n",
      "Epoch 24/30\n",
      "1/1 [==============================] - 0s 21ms/step - loss: 0.2564\n",
      "Epoch 25/30\n",
      "1/1 [==============================] - 0s 14ms/step - loss: 0.2463\n",
      "Epoch 26/30\n",
      "1/1 [==============================] - 0s 30ms/step - loss: 0.2363\n",
      "Epoch 27/30\n",
      "1/1 [==============================] - 0s 21ms/step - loss: 0.2267\n",
      "Epoch 28/30\n",
      "1/1 [==============================] - 0s 22ms/step - loss: 0.2174\n",
      "Epoch 29/30\n",
      "1/1 [==============================] - 0s 18ms/step - loss: 0.2084\n",
      "Epoch 30/30\n",
      "1/1 [==============================] - 0s 15ms/step - loss: 0.1998\n"
     ]
    }
   ],
   "source": [
    "np.random.seed(42)\n",
    "tf.random.set_seed(42)\n",
    "\n",
    "model.compile(loss=\"mse\", optimizer='Adam')\n",
    "\n",
    "history = model.fit(train_x, train_target, epochs=30)"
   ]
  },
  {
   "cell_type": "code",
   "execution_count": 50,
   "id": "b6204a66-ed5c-46d1-822a-3e571bd70edc",
   "metadata": {},
   "outputs": [
    {
     "name": "stdout",
     "output_type": "stream",
     "text": [
      "1/1 [==============================] - 0s 495ms/step\n"
     ]
    }
   ],
   "source": [
    "#Predict:\n",
    "y_pred = model.predict(test_x)"
   ]
  },
  {
   "cell_type": "code",
   "execution_count": 51,
   "id": "467df3ff-f4b7-48c6-8975-7d46014363e9",
   "metadata": {},
   "outputs": [],
   "source": [
    "#Remember, these are standardized values. \n",
    "\n",
    "comparison = pd.DataFrame()\n",
    "\n",
    "comparison['actual'] = scaler.inverse_transform([test_target]).flatten()\n",
    "comparison['predicted'] = scaler.inverse_transform(y_pred).flatten()"
   ]
  },
  {
   "cell_type": "code",
   "execution_count": 52,
   "id": "390934c9-5c60-4d64-96d8-f736445bfd55",
   "metadata": {},
   "outputs": [
    {
     "data": {
      "text/html": [
       "<div>\n",
       "<style scoped>\n",
       "    .dataframe tbody tr th:only-of-type {\n",
       "        vertical-align: middle;\n",
       "    }\n",
       "\n",
       "    .dataframe tbody tr th {\n",
       "        vertical-align: top;\n",
       "    }\n",
       "\n",
       "    .dataframe thead th {\n",
       "        text-align: right;\n",
       "    }\n",
       "</style>\n",
       "<table border=\"1\" class=\"dataframe\">\n",
       "  <thead>\n",
       "    <tr style=\"text-align: right;\">\n",
       "      <th></th>\n",
       "      <th>actual</th>\n",
       "      <th>predicted</th>\n",
       "    </tr>\n",
       "  </thead>\n",
       "  <tbody>\n",
       "    <tr>\n",
       "      <th>0</th>\n",
       "      <td>98.674698</td>\n",
       "      <td>93.678528</td>\n",
       "    </tr>\n",
       "    <tr>\n",
       "      <th>1</th>\n",
       "      <td>96.062454</td>\n",
       "      <td>92.019562</td>\n",
       "    </tr>\n",
       "    <tr>\n",
       "      <th>2</th>\n",
       "      <td>82.983742</td>\n",
       "      <td>85.351326</td>\n",
       "    </tr>\n",
       "  </tbody>\n",
       "</table>\n",
       "</div>"
      ],
      "text/plain": [
       "      actual  predicted\n",
       "0  98.674698  93.678528\n",
       "1  96.062454  92.019562\n",
       "2  82.983742  85.351326"
      ]
     },
     "execution_count": 52,
     "metadata": {},
     "output_type": "execute_result"
    }
   ],
   "source": [
    "comparison"
   ]
  },
  {
   "cell_type": "code",
   "execution_count": 53,
   "id": "5f75cbb3-24fc-4f99-9c4d-bb6a98a48671",
   "metadata": {},
   "outputs": [
    {
     "data": {
      "text/plain": [
       "15.637382631385305"
      ]
     },
     "execution_count": 53,
     "metadata": {},
     "output_type": "execute_result"
    }
   ],
   "source": [
    "mean_squared_error(comparison['actual'], comparison['predicted'])"
   ]
  },
  {
   "cell_type": "code",
   "execution_count": 54,
   "id": "4b1b7dff-1e13-4419-8998-1e00904b9cd3",
   "metadata": {},
   "outputs": [
    {
     "data": {
      "image/png": "[encoded data removed]",
      "text/plain": [
       "<Figure size 432x288 with 1 Axes>"
      ]
     },
     "metadata": {
      "needs_background": "light"
     },
     "output_type": "display_data"
    }
   ],
   "source": [
    "plt.plot(comparison['actual'], label = 'actual')\n",
    "plt.plot(comparison['predicted'], label = 'predicted')\n",
    "\n",
    "plt.legend()\n",
    "\n",
    "plt.show()"
   ]
  },
  {
   "cell_type": "markdown",
   "id": "e91da40b-46ce-4e1d-a22c-f1dec071fbc5",
   "metadata": {},
   "source": [
    "# LSTM with more layers"
   ]
  },
  {
   "cell_type": "code",
   "execution_count": 55,
   "id": "10af1aa5-d6cb-40c4-8628-e305e4718198",
   "metadata": {},
   "outputs": [],
   "source": [
    "model = keras.models.Sequential([\n",
    "    keras.layers.LSTM(32, activation='relu', input_shape=[9, 1]),\n",
    "    keras.layers.Dense(1, activation=None)\n",
    "])"
   ]
  },
  {
   "cell_type": "code",
   "execution_count": 56,
   "id": "a0717bb7-4a6b-429f-a913-a5c6d1d8f9ef",
   "metadata": {},
   "outputs": [
    {
     "name": "stdout",
     "output_type": "stream",
     "text": [
      "Epoch 1/30\n",
      "1/1 [==============================] - 1s 1s/step - loss: 0.4927\n",
      "Epoch 2/30\n",
      "1/1 [==============================] - 0s 19ms/step - loss: 0.4858\n",
      "Epoch 3/30\n",
      "1/1 [==============================] - 0s 8ms/step - loss: 0.4790\n",
      "Epoch 4/30\n",
      "1/1 [==============================] - 0s 8ms/step - loss: 0.4722\n",
      "Epoch 5/30\n",
      "1/1 [==============================] - 0s 8ms/step - loss: 0.4654\n",
      "Epoch 6/30\n",
      "1/1 [==============================] - 0s 6ms/step - loss: 0.4585\n",
      "Epoch 7/30\n",
      "1/1 [==============================] - 0s 7ms/step - loss: 0.4517\n",
      "Epoch 8/30\n",
      "1/1 [==============================] - 0s 6ms/step - loss: 0.4449\n",
      "Epoch 9/30\n",
      "1/1 [==============================] - 0s 7ms/step - loss: 0.4380\n",
      "Epoch 10/30\n",
      "1/1 [==============================] - 0s 7ms/step - loss: 0.4311\n",
      "Epoch 11/30\n",
      "1/1 [==============================] - 0s 6ms/step - loss: 0.4241\n",
      "Epoch 12/30\n",
      "1/1 [==============================] - 0s 6ms/step - loss: 0.4171\n",
      "Epoch 13/30\n",
      "1/1 [==============================] - 0s 6ms/step - loss: 0.4101\n",
      "Epoch 14/30\n",
      "1/1 [==============================] - 0s 10ms/step - loss: 0.4030\n",
      "Epoch 15/30\n",
      "1/1 [==============================] - 0s 8ms/step - loss: 0.3960\n",
      "Epoch 16/30\n",
      "1/1 [==============================] - 0s 7ms/step - loss: 0.3889\n",
      "Epoch 17/30\n",
      "1/1 [==============================] - 0s 6ms/step - loss: 0.3818\n",
      "Epoch 18/30\n",
      "1/1 [==============================] - 0s 0s/step - loss: 0.3747\n",
      "Epoch 19/30\n",
      "1/1 [==============================] - 0s 7ms/step - loss: 0.3677\n",
      "Epoch 20/30\n",
      "1/1 [==============================] - 0s 8ms/step - loss: 0.3606\n",
      "Epoch 21/30\n",
      "1/1 [==============================] - 0s 8ms/step - loss: 0.3536\n",
      "Epoch 22/30\n",
      "1/1 [==============================] - 0s 7ms/step - loss: 0.3466\n",
      "Epoch 23/30\n",
      "1/1 [==============================] - 0s 9ms/step - loss: 0.3396\n",
      "Epoch 24/30\n",
      "1/1 [==============================] - 0s 8ms/step - loss: 0.3327\n",
      "Epoch 25/30\n",
      "1/1 [==============================] - 0s 8ms/step - loss: 0.3257\n",
      "Epoch 26/30\n",
      "1/1 [==============================] - 0s 7ms/step - loss: 0.3188\n",
      "Epoch 27/30\n",
      "1/1 [==============================] - 0s 10ms/step - loss: 0.3120\n",
      "Epoch 28/30\n",
      "1/1 [==============================] - 0s 7ms/step - loss: 0.3051\n",
      "Epoch 29/30\n",
      "1/1 [==============================] - 0s 7ms/step - loss: 0.2984\n",
      "Epoch 30/30\n",
      "1/1 [==============================] - 0s 9ms/step - loss: 0.2918\n"
     ]
    }
   ],
   "source": [
    "np.random.seed(42)\n",
    "tf.random.set_seed(42)\n",
    "\n",
    "model.compile(loss=\"mse\", optimizer='Adam')\n",
    "\n",
    "history = model.fit(train_x, train_target, epochs=30)"
   ]
  },
  {
   "cell_type": "code",
   "execution_count": 57,
   "id": "aa69f090-d495-49e3-ad10-1b84cb8b6747",
   "metadata": {},
   "outputs": [
    {
     "name": "stdout",
     "output_type": "stream",
     "text": [
      "1/1 [==============================] - 0s 281ms/step\n"
     ]
    }
   ],
   "source": [
    "#Predict:\n",
    "y_pred = model.predict(test_x)"
   ]
  },
  {
   "cell_type": "code",
   "execution_count": 58,
   "id": "254e2c38-bd61-4d7e-86ce-fa7530f22dcd",
   "metadata": {},
   "outputs": [],
   "source": [
    "#Remember, these are standardized values. \n",
    "\n",
    "comparison = pd.DataFrame()\n",
    "\n",
    "comparison['actual'] = scaler.inverse_transform([test_target]).flatten()\n",
    "comparison['predicted'] = scaler.inverse_transform(y_pred).flatten()"
   ]
  },
  {
   "cell_type": "code",
   "execution_count": 59,
   "id": "8b396707-78d9-4d91-a457-e329a27d31c9",
   "metadata": {},
   "outputs": [
    {
     "data": {
      "text/html": [
       "<div>\n",
       "<style scoped>\n",
       "    .dataframe tbody tr th:only-of-type {\n",
       "        vertical-align: middle;\n",
       "    }\n",
       "\n",
       "    .dataframe tbody tr th {\n",
       "        vertical-align: top;\n",
       "    }\n",
       "\n",
       "    .dataframe thead th {\n",
       "        text-align: right;\n",
       "    }\n",
       "</style>\n",
       "<table border=\"1\" class=\"dataframe\">\n",
       "  <thead>\n",
       "    <tr style=\"text-align: right;\">\n",
       "      <th></th>\n",
       "      <th>actual</th>\n",
       "      <th>predicted</th>\n",
       "    </tr>\n",
       "  </thead>\n",
       "  <tbody>\n",
       "    <tr>\n",
       "      <th>0</th>\n",
       "      <td>98.674698</td>\n",
       "      <td>93.324219</td>\n",
       "    </tr>\n",
       "    <tr>\n",
       "      <th>1</th>\n",
       "      <td>96.062454</td>\n",
       "      <td>94.024704</td>\n",
       "    </tr>\n",
       "    <tr>\n",
       "      <th>2</th>\n",
       "      <td>82.983742</td>\n",
       "      <td>76.101227</td>\n",
       "    </tr>\n",
       "  </tbody>\n",
       "</table>\n",
       "</div>"
      ],
      "text/plain": [
       "      actual  predicted\n",
       "0  98.674698  93.324219\n",
       "1  96.062454  94.024704\n",
       "2  82.983742  76.101227"
      ]
     },
     "execution_count": 59,
     "metadata": {},
     "output_type": "execute_result"
    }
   ],
   "source": [
    "comparison"
   ]
  },
  {
   "cell_type": "code",
   "execution_count": 60,
   "id": "ca0b9d83-1a07-4c31-883a-6bc28f923c4b",
   "metadata": {},
   "outputs": [
    {
     "data": {
      "text/plain": [
       "26.716356245860982"
      ]
     },
     "execution_count": 60,
     "metadata": {},
     "output_type": "execute_result"
    }
   ],
   "source": [
    "mean_squared_error(comparison['actual'], comparison['predicted'])"
   ]
  },
  {
   "cell_type": "code",
   "execution_count": 61,
   "id": "0d6ef1b5-6139-4c5b-b8c2-54213d741928",
   "metadata": {},
   "outputs": [
    {
     "data": {
      "image/png": "[encoded data removed]",
      "text/plain": [
       "<Figure size 432x288 with 1 Axes>"
      ]
     },
     "metadata": {
      "needs_background": "light"
     },
     "output_type": "display_data"
    }
   ],
   "source": [
    "plt.plot(comparison['actual'], label = 'actual')\n",
    "plt.plot(comparison['predicted'], label = 'predicted')\n",
    "\n",
    "plt.legend()\n",
    "\n",
    "plt.show()"
   ]
  },
  {
   "cell_type": "markdown",
   "id": "1c88188a-211e-4186-85c5-6db7e98d5639",
   "metadata": {},
   "source": [
    "# GRU (with more layers)"
   ]
  },
  {
   "cell_type": "code",
   "execution_count": 62,
   "id": "3934c921-2c11-4861-9c55-f6c228d44a1e",
   "metadata": {},
   "outputs": [],
   "source": [
    "model = keras.models.Sequential([\n",
    "    keras.layers.GRU(32, activation='relu', return_sequences=True, input_shape=[9, 1]),\n",
    "    keras.layers.GRU(32, activation='relu', return_sequences=False),\n",
    "    keras.layers.Dense(1, activation=None)\n",
    "])"
   ]
  },
  {
   "cell_type": "code",
   "execution_count": 63,
   "id": "e6bfb8fb-8e24-49e3-a724-010b455a2bed",
   "metadata": {},
   "outputs": [
    {
     "name": "stdout",
     "output_type": "stream",
     "text": [
      "Epoch 1/30\n",
      "1/1 [==============================] - 4s 4s/step - loss: 0.5844\n",
      "Epoch 2/30\n",
      "1/1 [==============================] - 0s 14ms/step - loss: 0.5510\n",
      "Epoch 3/30\n",
      "1/1 [==============================] - 0s 14ms/step - loss: 0.5321\n",
      "Epoch 4/30\n",
      "1/1 [==============================] - 0s 15ms/step - loss: 0.5184\n",
      "Epoch 5/30\n",
      "1/1 [==============================] - 0s 13ms/step - loss: 0.5056\n",
      "Epoch 6/30\n",
      "1/1 [==============================] - 0s 14ms/step - loss: 0.4932\n",
      "Epoch 7/30\n",
      "1/1 [==============================] - 0s 14ms/step - loss: 0.4810\n",
      "Epoch 8/30\n",
      "1/1 [==============================] - 0s 13ms/step - loss: 0.4690\n",
      "Epoch 9/30\n",
      "1/1 [==============================] - 0s 15ms/step - loss: 0.4570\n",
      "Epoch 10/30\n",
      "1/1 [==============================] - 0s 13ms/step - loss: 0.4451\n",
      "Epoch 11/30\n",
      "1/1 [==============================] - 0s 12ms/step - loss: 0.4332\n",
      "Epoch 12/30\n",
      "1/1 [==============================] - 0s 17ms/step - loss: 0.4211\n",
      "Epoch 13/30\n",
      "1/1 [==============================] - 0s 13ms/step - loss: 0.4086\n",
      "Epoch 14/30\n",
      "1/1 [==============================] - 0s 13ms/step - loss: 0.3946\n",
      "Epoch 15/30\n",
      "1/1 [==============================] - 0s 17ms/step - loss: 0.3804\n",
      "Epoch 16/30\n",
      "1/1 [==============================] - 0s 13ms/step - loss: 0.3665\n",
      "Epoch 17/30\n",
      "1/1 [==============================] - 0s 14ms/step - loss: 0.3529\n",
      "Epoch 18/30\n",
      "1/1 [==============================] - 0s 16ms/step - loss: 0.3394\n",
      "Epoch 19/30\n",
      "1/1 [==============================] - 0s 12ms/step - loss: 0.3262\n",
      "Epoch 20/30\n",
      "1/1 [==============================] - 0s 15ms/step - loss: 0.3130\n",
      "Epoch 21/30\n",
      "1/1 [==============================] - 0s 14ms/step - loss: 0.3000\n",
      "Epoch 22/30\n",
      "1/1 [==============================] - 0s 12ms/step - loss: 0.2873\n",
      "Epoch 23/30\n",
      "1/1 [==============================] - 0s 15ms/step - loss: 0.2747\n",
      "Epoch 24/30\n",
      "1/1 [==============================] - 0s 13ms/step - loss: 0.2624\n",
      "Epoch 25/30\n",
      "1/1 [==============================] - 0s 14ms/step - loss: 0.2506\n",
      "Epoch 26/30\n",
      "1/1 [==============================] - 0s 12ms/step - loss: 0.2393\n",
      "Epoch 27/30\n",
      "1/1 [==============================] - 0s 12ms/step - loss: 0.2285\n",
      "Epoch 28/30\n",
      "1/1 [==============================] - 0s 15ms/step - loss: 0.2182\n",
      "Epoch 29/30\n",
      "1/1 [==============================] - 0s 12ms/step - loss: 0.2086\n",
      "Epoch 30/30\n",
      "1/1 [==============================] - 0s 12ms/step - loss: 0.1995\n"
     ]
    }
   ],
   "source": [
    "np.random.seed(42)\n",
    "tf.random.set_seed(42)\n",
    "\n",
    "model.compile(loss=\"mse\", optimizer='RMSprop')\n",
    "\n",
    "history = model.fit(train_x, train_target, epochs=30)"
   ]
  },
  {
   "cell_type": "code",
   "execution_count": 64,
   "id": "59b25ebe-713a-46f8-b122-9480022781cc",
   "metadata": {},
   "outputs": [
    {
     "name": "stdout",
     "output_type": "stream",
     "text": [
      "1/1 [==============================] - 1s 623ms/step\n"
     ]
    }
   ],
   "source": [
    "#Predict:\n",
    "y_pred = model.predict(test_x)"
   ]
  },
  {
   "cell_type": "code",
   "execution_count": 65,
   "id": "70b24cbe-442f-483f-955d-b9a238bf49e1",
   "metadata": {},
   "outputs": [],
   "source": [
    "#Remember, these are standardized values. \n",
    "\n",
    "comparision = pd.DataFrame()\n",
    "\n",
    "comparision['actual'] = scaler.inverse_transform([test_target]).flatten()\n",
    "comparision['predicted'] = scaler.inverse_transform(y_pred).flatten()"
   ]
  },
  {
   "cell_type": "code",
   "execution_count": 66,
   "id": "bbb2f238-2f22-44ee-9845-398800f63fbb",
   "metadata": {},
   "outputs": [
    {
     "data": {
      "text/html": [
       "<div>\n",
       "<style scoped>\n",
       "    .dataframe tbody tr th:only-of-type {\n",
       "        vertical-align: middle;\n",
       "    }\n",
       "\n",
       "    .dataframe tbody tr th {\n",
       "        vertical-align: top;\n",
       "    }\n",
       "\n",
       "    .dataframe thead th {\n",
       "        text-align: right;\n",
       "    }\n",
       "</style>\n",
       "<table border=\"1\" class=\"dataframe\">\n",
       "  <thead>\n",
       "    <tr style=\"text-align: right;\">\n",
       "      <th></th>\n",
       "      <th>actual</th>\n",
       "      <th>predicted</th>\n",
       "    </tr>\n",
       "  </thead>\n",
       "  <tbody>\n",
       "    <tr>\n",
       "      <th>0</th>\n",
       "      <td>98.674698</td>\n",
       "      <td>93.324219</td>\n",
       "    </tr>\n",
       "    <tr>\n",
       "      <th>1</th>\n",
       "      <td>96.062454</td>\n",
       "      <td>94.024704</td>\n",
       "    </tr>\n",
       "    <tr>\n",
       "      <th>2</th>\n",
       "      <td>82.983742</td>\n",
       "      <td>76.101227</td>\n",
       "    </tr>\n",
       "  </tbody>\n",
       "</table>\n",
       "</div>"
      ],
      "text/plain": [
       "      actual  predicted\n",
       "0  98.674698  93.324219\n",
       "1  96.062454  94.024704\n",
       "2  82.983742  76.101227"
      ]
     },
     "execution_count": 66,
     "metadata": {},
     "output_type": "execute_result"
    }
   ],
   "source": [
    "comparison"
   ]
  },
  {
   "cell_type": "code",
   "execution_count": 67,
   "id": "0e904d17-091d-425b-b8d1-aecf07e78bdf",
   "metadata": {},
   "outputs": [
    {
     "data": {
      "text/plain": [
       "26.716356245860982"
      ]
     },
     "execution_count": 67,
     "metadata": {},
     "output_type": "execute_result"
    }
   ],
   "source": [
    "mean_squared_error(comparison['actual'], comparison['predicted'])"
   ]
  },
  {
   "cell_type": "code",
   "execution_count": 68,
   "id": "ce30af2c-ec75-4a0b-8778-c29222bb2bd2",
   "metadata": {},
   "outputs": [
    {
     "data": {
      "image/png": "[encoded data removed]",
      "text/plain": [
       "<Figure size 432x288 with 1 Axes>"
      ]
     },
     "metadata": {
      "needs_background": "light"
     },
     "output_type": "display_data"
    }
   ],
   "source": [
    "plt.plot(comparison['actual'], label = 'actual')\n",
    "plt.plot(comparison['predicted'], label = 'predicted')\n",
    "\n",
    "plt.legend()\n",
    "\n",
    "plt.show()"
   ]
  },
  {
   "cell_type": "markdown",
   "id": "99d8dade-f2df-43fa-8cc7-9b169cf07636",
   "metadata": {},
   "source": [
    "# Conv1D"
   ]
  },
  {
   "cell_type": "code",
   "execution_count": 69,
   "id": "38982a4f-de1a-48ff-8675-d81f0b4ff4bd",
   "metadata": {},
   "outputs": [],
   "source": [
    "model = keras.models.Sequential([\n",
    "    keras.layers.Conv1D(filters=20, kernel_size=3, strides=1, padding=\"valid\", input_shape=[9, 1]),\n",
    "    keras.layers.GRU(32, activation='relu', return_sequences=True),\n",
    "    keras.layers.GRU(32, activation='relu', return_sequences=False),\n",
    "    keras.layers.Dense(1, activation=None)\n",
    "])"
   ]
  },
  {
   "cell_type": "code",
   "execution_count": 70,
   "id": "779a877a-2ab1-493c-b1fc-fdf739b591a7",
   "metadata": {},
   "outputs": [
    {
     "name": "stdout",
     "output_type": "stream",
     "text": [
      "Epoch 1/30\n",
      "1/1 [==============================] - 5s 5s/step - loss: 0.5776\n",
      "Epoch 2/30\n",
      "1/1 [==============================] - 0s 14ms/step - loss: 0.5667\n",
      "Epoch 3/30\n",
      "1/1 [==============================] - 0s 26ms/step - loss: 0.5560\n",
      "Epoch 4/30\n",
      "1/1 [==============================] - 0s 16ms/step - loss: 0.5454\n",
      "Epoch 5/30\n",
      "1/1 [==============================] - 0s 27ms/step - loss: 0.5353\n",
      "Epoch 6/30\n",
      "1/1 [==============================] - 0s 29ms/step - loss: 0.5257\n",
      "Epoch 7/30\n",
      "1/1 [==============================] - 0s 30ms/step - loss: 0.5162\n",
      "Epoch 8/30\n",
      "1/1 [==============================] - 0s 150ms/step - loss: 0.5070\n",
      "Epoch 9/30\n",
      "1/1 [==============================] - 0s 29ms/step - loss: 0.4982\n",
      "Epoch 10/30\n",
      "1/1 [==============================] - 0s 16ms/step - loss: 0.4896\n",
      "Epoch 11/30\n",
      "1/1 [==============================] - 0s 18ms/step - loss: 0.4816\n",
      "Epoch 12/30\n",
      "1/1 [==============================] - 0s 24ms/step - loss: 0.4735\n",
      "Epoch 13/30\n",
      "1/1 [==============================] - 0s 24ms/step - loss: 0.4650\n",
      "Epoch 14/30\n",
      "1/1 [==============================] - 0s 27ms/step - loss: 0.4563\n",
      "Epoch 15/30\n",
      "1/1 [==============================] - 0s 14ms/step - loss: 0.4473\n",
      "Epoch 16/30\n",
      "1/1 [==============================] - 0s 15ms/step - loss: 0.4381\n",
      "Epoch 17/30\n",
      "1/1 [==============================] - 0s 15ms/step - loss: 0.4287\n",
      "Epoch 18/30\n",
      "1/1 [==============================] - 0s 15ms/step - loss: 0.4190\n",
      "Epoch 19/30\n",
      "1/1 [==============================] - 0s 15ms/step - loss: 0.4089\n",
      "Epoch 20/30\n",
      "1/1 [==============================] - 0s 12ms/step - loss: 0.3985\n",
      "Epoch 21/30\n",
      "1/1 [==============================] - 0s 15ms/step - loss: 0.3877\n",
      "Epoch 22/30\n",
      "1/1 [==============================] - 0s 22ms/step - loss: 0.3770\n",
      "Epoch 23/30\n",
      "1/1 [==============================] - 0s 24ms/step - loss: 0.3664\n",
      "Epoch 24/30\n",
      "1/1 [==============================] - 0s 18ms/step - loss: 0.3560\n",
      "Epoch 25/30\n",
      "1/1 [==============================] - 0s 101ms/step - loss: 0.3458\n",
      "Epoch 26/30\n",
      "1/1 [==============================] - 0s 16ms/step - loss: 0.3359\n",
      "Epoch 27/30\n",
      "1/1 [==============================] - 0s 18ms/step - loss: 0.3261\n",
      "Epoch 28/30\n",
      "1/1 [==============================] - 0s 38ms/step - loss: 0.3162\n",
      "Epoch 29/30\n",
      "1/1 [==============================] - 0s 20ms/step - loss: 0.3064\n",
      "Epoch 30/30\n",
      "1/1 [==============================] - 0s 19ms/step - loss: 0.2965\n"
     ]
    }
   ],
   "source": [
    "np.random.seed(42)\n",
    "tf.random.set_seed(42)\n",
    "\n",
    "model.compile(loss=\"mse\", optimizer='Adam')\n",
    "\n",
    "history = model.fit(train_x, train_target, epochs=30)"
   ]
  },
  {
   "cell_type": "code",
   "execution_count": 71,
   "id": "0642b1e4-b8b5-4039-b7e7-d5bd64b7bce3",
   "metadata": {},
   "outputs": [
    {
     "name": "stdout",
     "output_type": "stream",
     "text": [
      "1/1 [==============================] - 1s 810ms/step\n"
     ]
    }
   ],
   "source": [
    "#Predict:\n",
    "y_pred = model.predict(test_x)"
   ]
  },
  {
   "cell_type": "code",
   "execution_count": 72,
   "id": "58c4d05c-d0f7-4bc0-bcc7-fea4d4a280a3",
   "metadata": {},
   "outputs": [],
   "source": [
    "#Remember, these are standardized values. \n",
    "\n",
    "comparison = pd.DataFrame()\n",
    "\n",
    "comparison['actual'] = scaler.inverse_transform([test_target]).flatten()\n",
    "comparison['predicted'] = scaler.inverse_transform(y_pred).flatten()"
   ]
  },
  {
   "cell_type": "code",
   "execution_count": 73,
   "id": "9957abd6-b9d3-49e7-8f0e-17698080dcbf",
   "metadata": {},
   "outputs": [
    {
     "data": {
      "text/html": [
       "<div>\n",
       "<style scoped>\n",
       "    .dataframe tbody tr th:only-of-type {\n",
       "        vertical-align: middle;\n",
       "    }\n",
       "\n",
       "    .dataframe tbody tr th {\n",
       "        vertical-align: top;\n",
       "    }\n",
       "\n",
       "    .dataframe thead th {\n",
       "        text-align: right;\n",
       "    }\n",
       "</style>\n",
       "<table border=\"1\" class=\"dataframe\">\n",
       "  <thead>\n",
       "    <tr style=\"text-align: right;\">\n",
       "      <th></th>\n",
       "      <th>actual</th>\n",
       "      <th>predicted</th>\n",
       "    </tr>\n",
       "  </thead>\n",
       "  <tbody>\n",
       "    <tr>\n",
       "      <th>0</th>\n",
       "      <td>98.674698</td>\n",
       "      <td>93.081810</td>\n",
       "    </tr>\n",
       "    <tr>\n",
       "      <th>1</th>\n",
       "      <td>96.062454</td>\n",
       "      <td>93.795807</td>\n",
       "    </tr>\n",
       "    <tr>\n",
       "      <th>2</th>\n",
       "      <td>82.983742</td>\n",
       "      <td>78.758469</td>\n",
       "    </tr>\n",
       "  </tbody>\n",
       "</table>\n",
       "</div>"
      ],
      "text/plain": [
       "      actual  predicted\n",
       "0  98.674698  93.081810\n",
       "1  96.062454  93.795807\n",
       "2  82.983742  78.758469"
      ]
     },
     "execution_count": 73,
     "metadata": {},
     "output_type": "execute_result"
    }
   ],
   "source": [
    "comparison"
   ]
  },
  {
   "cell_type": "code",
   "execution_count": 74,
   "id": "4d965536-8e3e-4ab8-b3f2-2157b7140a35",
   "metadata": {},
   "outputs": [
    {
     "data": {
      "text/plain": [
       "18.090340140526635"
      ]
     },
     "execution_count": 74,
     "metadata": {},
     "output_type": "execute_result"
    }
   ],
   "source": [
    "mean_squared_error(comparison['actual'], comparison['predicted'])"
   ]
  },
  {
   "cell_type": "code",
   "execution_count": 75,
   "id": "39a84608-be96-481a-8440-3c599b0640a8",
   "metadata": {},
   "outputs": [
    {
     "data": {
      "image/png": "[encoded data removed]",
      "text/plain": [
       "<Figure size 432x288 with 1 Axes>"
      ]
     },
     "metadata": {
      "needs_background": "light"
     },
     "output_type": "display_data"
    }
   ],
   "source": [
    "plt.plot(comparison['actual'], label = 'actual')\n",
    "plt.plot(comparison['predicted'], label = 'predicted')\n",
    "\n",
    "plt.legend()\n",
    "\n",
    "plt.show()"
   ]
  },
  {
   "cell_type": "markdown",
   "id": "a1efbb07-39c2-4026-bf04-3f77fce23e50",
   "metadata": {},
   "source": [
    "# Inference:\n",
    "    \n",
    "    From the above I have predicted the mean sqaured error and the actual and the 10 day predictions. From the above, just based of the MSE value, it can be clearly seen that the simple RNN is performing the best. It has the least mean squared error value of 0.38. As we start adding layers to it with LSTM, GRU etc, the error seems to increase. However it decreases with the conv1d but still out of all the models, the simple RNN is giving the best results so far but regardless, all the models are performing their best at predicting the stock prices with a very low mean sqaured error."
   ]
  }
 ],
 "metadata": {
  "kernelspec": {
   "display_name": "Python 3 (ipykernel)",
   "language": "python",
   "name": "python3"
  },
  "language_info": {
   "codemirror_mode": {
    "name": "ipython",
    "version": 3
   },
   "file_extension": ".py",
   "mimetype": "text/x-python",
   "name": "python",
   "nbconvert_exporter": "python",
   "pygments_lexer": "ipython3",
   "version": "3.9.12"
  }
 },
 "nbformat": 4,
 "nbformat_minor": 5
}
